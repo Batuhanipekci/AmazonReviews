{
  "nbformat": 4,
  "nbformat_minor": 0,
  "metadata": {
    "colab": {
      "name": "MiniTask2_YuBaRa.ipynb",
      "version": "0.3.2",
      "provenance": [],
      "collapsed_sections": []
    },
    "language_info": {
      "codemirror_mode": {
        "name": "ipython",
        "version": 3
      },
      "file_extension": ".py",
      "mimetype": "text/x-python",
      "name": "python",
      "nbconvert_exporter": "python",
      "pygments_lexer": "ipython3",
      "version": "3.7.3"
    },
    "kernelspec": {
      "display_name": "Python 3",
      "language": "python",
      "name": "python3"
    }
  },
  "cells": [
    {
      "cell_type": "markdown",
      "metadata": {
        "id": "d3ef4VEDorgk",
        "colab_type": "text"
      },
      "source": [
        "# ADAMS - Mini Task 2"
      ]
    },
    {
      "cell_type": "markdown",
      "metadata": {
        "id": "jnNl77tOorgl",
        "colab_type": "text"
      },
      "source": [
        "###  Group Name: YuBaRa\n",
        "### Participants: Batuhan Ipekci 527060, Raiber Alkurdi 593158, Yuqi Guan 602006"
      ]
    },
    {
      "cell_type": "markdown",
      "metadata": {
        "id": "oWgHny21uguZ",
        "colab_type": "text"
      },
      "source": [
        "## 1. Data Analysis"
      ]
    },
    {
      "cell_type": "code",
      "metadata": {
        "id": "Dkn0Qo0dorgl",
        "colab_type": "code",
        "colab": {}
      },
      "source": [
        "import pandas as pd\n",
        "df = pd.read_csv('MC2.csv')\n",
        "df_test = pd.read_csv('MC2test.csv')"
      ],
      "execution_count": 0,
      "outputs": []
    },
    {
      "cell_type": "code",
      "metadata": {
        "id": "mIjyZfMMorgp",
        "colab_type": "code",
        "outputId": "8743f37c-3c1d-4e80-a35e-9a3eaace69fb",
        "colab": {}
      },
      "source": [
        "# the shape of the training dataset \n",
        "import numpy as np\n",
        "df.shape"
      ],
      "execution_count": 0,
      "outputs": [
        {
          "output_type": "execute_result",
          "data": {
            "text/plain": [
              "(1099207, 11)"
            ]
          },
          "metadata": {
            "tags": []
          },
          "execution_count": 294
        }
      ]
    },
    {
      "cell_type": "code",
      "metadata": {
        "id": "eyv7YcYForgt",
        "colab_type": "code",
        "outputId": "0f650860-e7ba-49dc-e07a-43c1cb312283",
        "colab": {}
      },
      "source": [
        "# the shape of the test dataset \n",
        "df_test.shape"
      ],
      "execution_count": 0,
      "outputs": [
        {
          "output_type": "execute_result",
          "data": {
            "text/plain": [
              "(212849, 8)"
            ]
          },
          "metadata": {
            "tags": []
          },
          "execution_count": 4
        }
      ]
    },
    {
      "cell_type": "code",
      "metadata": {
        "id": "dO1i-fq9orgw",
        "colab_type": "code",
        "outputId": "e0fa14f5-c626-459c-ae53-717ecc7b7f0b",
        "colab": {}
      },
      "source": [
        "df.head(5)"
      ],
      "execution_count": 0,
      "outputs": [
        {
          "output_type": "execute_result",
          "data": {
            "text/html": [
              "<div>\n",
              "<style scoped>\n",
              "    .dataframe tbody tr th:only-of-type {\n",
              "        vertical-align: middle;\n",
              "    }\n",
              "\n",
              "    .dataframe tbody tr th {\n",
              "        vertical-align: top;\n",
              "    }\n",
              "\n",
              "    .dataframe thead th {\n",
              "        text-align: right;\n",
              "    }\n",
              "</style>\n",
              "<table border=\"1\" class=\"dataframe\">\n",
              "  <thead>\n",
              "    <tr style=\"text-align: right;\">\n",
              "      <th></th>\n",
              "      <th>Unnamed: 0</th>\n",
              "      <th>product_id</th>\n",
              "      <th>product_title</th>\n",
              "      <th>star_rating</th>\n",
              "      <th>helpful_votes</th>\n",
              "      <th>total_votes</th>\n",
              "      <th>verified_purchase</th>\n",
              "      <th>review_headline</th>\n",
              "      <th>review_body</th>\n",
              "      <th>full_text</th>\n",
              "    </tr>\n",
              "  </thead>\n",
              "  <tbody>\n",
              "    <tr>\n",
              "      <th>0</th>\n",
              "      <td>1</td>\n",
              "      <td>0983797706</td>\n",
              "      <td>Igniting Your True Purpose and Passion: A Busi...</td>\n",
              "      <td>5</td>\n",
              "      <td>0</td>\n",
              "      <td>0</td>\n",
              "      <td>N</td>\n",
              "      <td>This is an inspirational and insightful book t...</td>\n",
              "      <td>This is an inspirational and insightful book t...</td>\n",
              "      <td>This is an inspirational and insightful book t...</td>\n",
              "    </tr>\n",
              "    <tr>\n",
              "      <th>1</th>\n",
              "      <td>2</td>\n",
              "      <td>1423151283</td>\n",
              "      <td>The Duckling Gets a Cookie!? (Pigeon)</td>\n",
              "      <td>5</td>\n",
              "      <td>0</td>\n",
              "      <td>0</td>\n",
              "      <td>N</td>\n",
              "      <td>Loved it!</td>\n",
              "      <td>My twins are 3 and they love the pigeon books!...</td>\n",
              "      <td>Loved it!. My twins are 3 and they love the pi...</td>\n",
              "    </tr>\n",
              "    <tr>\n",
              "      <th>2</th>\n",
              "      <td>3</td>\n",
              "      <td>1445604752</td>\n",
              "      <td>Spitfire Ace of Aces: The Wartime Story of Joh...</td>\n",
              "      <td>4</td>\n",
              "      <td>2</td>\n",
              "      <td>2</td>\n",
              "      <td>N</td>\n",
              "      <td>Engaging Account of the Combat Career of an RA...</td>\n",
              "      <td>Back in 1964, I was introduced to 'Johnnie' Jo...</td>\n",
              "      <td>Engaging Account of the Combat Career of an RA...</td>\n",
              "    </tr>\n",
              "    <tr>\n",
              "      <th>3</th>\n",
              "      <td>4</td>\n",
              "      <td>0393057941</td>\n",
              "      <td>The Bread Bible</td>\n",
              "      <td>5</td>\n",
              "      <td>0</td>\n",
              "      <td>0</td>\n",
              "      <td>N</td>\n",
              "      <td>Great book for beginners</td>\n",
              "      <td>I disagree with those reviews that say this is...</td>\n",
              "      <td>Great book for beginners. I disagree with thos...</td>\n",
              "    </tr>\n",
              "    <tr>\n",
              "      <th>4</th>\n",
              "      <td>5</td>\n",
              "      <td>1608322858</td>\n",
              "      <td>Do It Well. Make It Fun.: The Key to Success i...</td>\n",
              "      <td>3</td>\n",
              "      <td>2</td>\n",
              "      <td>2</td>\n",
              "      <td>N</td>\n",
              "      <td>Left me wanting more</td>\n",
              "      <td>Reading this book, I hoped to find more about ...</td>\n",
              "      <td>Left me wanting more. Reading this book, I hop...</td>\n",
              "    </tr>\n",
              "  </tbody>\n",
              "</table>\n",
              "</div>"
            ],
            "text/plain": [
              "   Unnamed: 0  product_id                                      product_title  \\\n",
              "0           1  0983797706  Igniting Your True Purpose and Passion: A Busi...   \n",
              "1           2  1423151283              The Duckling Gets a Cookie!? (Pigeon)   \n",
              "2           3  1445604752  Spitfire Ace of Aces: The Wartime Story of Joh...   \n",
              "3           4  0393057941                                    The Bread Bible   \n",
              "4           5  1608322858  Do It Well. Make It Fun.: The Key to Success i...   \n",
              "\n",
              "   star_rating  helpful_votes  total_votes verified_purchase  \\\n",
              "0            5              0            0                 N   \n",
              "1            5              0            0                 N   \n",
              "2            4              2            2                 N   \n",
              "3            5              0            0                 N   \n",
              "4            3              2            2                 N   \n",
              "\n",
              "                                     review_headline  \\\n",
              "0  This is an inspirational and insightful book t...   \n",
              "1                                          Loved it!   \n",
              "2  Engaging Account of the Combat Career of an RA...   \n",
              "3                           Great book for beginners   \n",
              "4                               Left me wanting more   \n",
              "\n",
              "                                         review_body  \\\n",
              "0  This is an inspirational and insightful book t...   \n",
              "1  My twins are 3 and they love the pigeon books!...   \n",
              "2  Back in 1964, I was introduced to 'Johnnie' Jo...   \n",
              "3  I disagree with those reviews that say this is...   \n",
              "4  Reading this book, I hoped to find more about ...   \n",
              "\n",
              "                                           full_text  \n",
              "0  This is an inspirational and insightful book t...  \n",
              "1  Loved it!. My twins are 3 and they love the pi...  \n",
              "2  Engaging Account of the Combat Career of an RA...  \n",
              "3  Great book for beginners. I disagree with thos...  \n",
              "4  Left me wanting more. Reading this book, I hop...  "
            ]
          },
          "metadata": {
            "tags": []
          },
          "execution_count": 56
        }
      ]
    },
    {
      "cell_type": "markdown",
      "metadata": {
        "id": "UMogswD6pmME",
        "colab_type": "text"
      },
      "source": [
        "We remove the 2 rows where the review_body is null."
      ]
    },
    {
      "cell_type": "code",
      "metadata": {
        "id": "6PiOXy-3orgz",
        "colab_type": "code",
        "colab": {}
      },
      "source": [
        "df = df[pd.notnull(df['review_body'])]"
      ],
      "execution_count": 0,
      "outputs": []
    },
    {
      "cell_type": "code",
      "metadata": {
        "id": "iMcNYD-6org1",
        "colab_type": "code",
        "outputId": "02d7e6ff-969a-48b7-d7d4-be33d307710f",
        "colab": {}
      },
      "source": [
        "df.shape"
      ],
      "execution_count": 0,
      "outputs": [
        {
          "output_type": "execute_result",
          "data": {
            "text/plain": [
              "(1099207, 10)"
            ]
          },
          "metadata": {
            "tags": []
          },
          "execution_count": 20
        }
      ]
    },
    {
      "cell_type": "code",
      "metadata": {
        "id": "Ovub_zveorg4",
        "colab_type": "code",
        "outputId": "215f6a1a-fd28-4e64-a6f1-36843c4d7c8f",
        "colab": {}
      },
      "source": [
        "import seaborn as sns\n",
        "import matplotlib.pyplot as plt\n",
        "cnt_pro = df['star_rating'].value_counts()\n",
        "plt.figure(figsize=(12,4))\n",
        "sns.barplot(cnt_pro.index, cnt_pro.values, alpha=0.8)\n",
        "plt.ylabel('Number of Occurrences', fontsize=12)\n",
        "plt.xlabel('Star', fontsize=12)\n",
        "plt.xticks(rotation=90)\n",
        "plt.show();"
      ],
      "execution_count": 0,
      "outputs": [
        {
          "output_type": "display_data",
          "data": {
            "image/png": "[encoded data removed]",
            "text/plain": [
              "<Figure size 864x288 with 1 Axes>"
            ]
          },
          "metadata": {
            "tags": [],
            "needs_background": "light"
          }
        }
      ]
    },
    {
      "cell_type": "code",
      "metadata": {
        "id": "D1uYvuzoorg6",
        "colab_type": "code",
        "outputId": "5ad3f1ca-a884-4128-f071-619f94d53f1f",
        "colab": {}
      },
      "source": [
        "df['star_rating'].value_counts()"
      ],
      "execution_count": 0,
      "outputs": [
        {
          "output_type": "execute_result",
          "data": {
            "text/plain": [
              "1099207"
            ]
          },
          "metadata": {
            "tags": []
          },
          "execution_count": 367
        }
      ]
    },
    {
      "cell_type": "markdown",
      "metadata": {
        "id": "ZM2bHO8Iorg9",
        "colab_type": "text"
      },
      "source": [
        "The classes are imbalanced, however, a naive classifier that predicts everything to be five star will only achieve over 61.5% accuracy.\n",
        "\n",
        "Let’s have a look a few examples of reviews and its associated star rating."
      ]
    },
    {
      "cell_type": "code",
      "metadata": {
        "id": "AgcMN7T0org9",
        "colab_type": "code",
        "outputId": "3537c17b-4b8c-4925-f896-92331e5badd2",
        "colab": {}
      },
      "source": [
        "def print_review(index):\n",
        "    example = df[df.index == index][['review_body', 'star_rating']].values[0]\n",
        "    if len(example) > 0:\n",
        "        print(example[0])\n",
        "        print('Star:', example[1])\n",
        "print_review(12)"
      ],
      "execution_count": 0,
      "outputs": [
        {
          "output_type": "stream",
          "text": [
            "Monster Zoo reads like a good animated movie. Maybe that's not right. It reads the way animated movies should be. It's got a good vision and has a heck of a good time with the cast of characters, even the ones turned evil. The drawings are fantastic and the story takes you straight from the beginning to the end with ease and speed. TenNapel is a good storyteller and I'm glad he tries to put out a graphic novel a year. I definitely recommend this, it's good for kids, adults and grown up kids. You'll like it.\n",
            "Star: 5\n"
          ],
          "name": "stdout"
        }
      ]
    },
    {
      "cell_type": "code",
      "metadata": {
        "id": "Dhgfn7FnorhA",
        "colab_type": "code",
        "outputId": "d4c1422e-e0ec-46e0-8e90-e6c22347f249",
        "colab": {}
      },
      "source": [
        "print_review(832)"
      ],
      "execution_count": 0,
      "outputs": [
        {
          "output_type": "stream",
          "text": [
            "First Impressions: When Silence arrived for me to review, it made its way to the very top of my To-Read pile. I had been looking forward to this one ever since I feel in love with its gorgeous cover and its promise of a unique plot line. I haven't read too many books that contain necromancy and I was interested to see Michelle Sagara's take on that subject. Just from reading the synopsis, it also sounded like there would be a good contemporary story weaved in with the paranormal, which to me is a plus.<br /><br />First 50 Pages: I've always enjoyed Michelle Sagara's style of writing and Silence is just a good, if not better than her other books. Silence was a fast-paced book with a unique and interesting, darker then most plot line, a vast amount of characters, imaginative word play, and plenty of suspense that kept me entertained and on the edge of my seat. I loved how Michelle included an animal, Emma's Rottweiler, which I thought was charming and super cute since he even became of character of sorts! I basically flew through the first 50 pages of Silence and I felt invested into the story. It's nice when an author makes their book easy for you to read and enjoy. I honestly can't say that I found anything majorly wrong with this novel, and that is pretty rare for me.<br /><br />Characters & Plot: If anything is wrong, it might just be that I think the book blurb reveals too much of the plot. When I was writing down notes while reading Silence, my book synopsis mirrors the book blurb. It gives away far too much information for my taste, so instead of spitting out the same synopsis you can find above, I'm going to focus on the characters with all of their awesomeness.<br /><br />All of the characters in Silence were very likeable and had personality, even the minor characters. I was so glad that this book had a great female protagonist, Emma. She is a super strong and determined character that had been through some tough times in her life. She had to deal with the death of her boyfriend, and the author really makes you feel for her character. Even though Emma has had to deal with a ton of heartbreak, she is always willing to do for others and consistently puts the people that she cares about before herself. Emma is only of my favorite characters I have come across so far this year.<br /><br />I've been feeling burnt out when it comes to stories that include love triangles because they are so overused now, which drives me crazy. It was so nice to read a book that finally didn't have a love triangle. I thought there was one at first, but throughout the story it was clear that Emma only had one suitor. Even though there was no love triangle, there are still two guys who are around Emma quite a bit. Eric and Chase were very interesting characters because they began the story with the intent to kill Emma for their own reasons, but that doesn't really work out after they get to know Emma and find out more about her special abilities and how she intends on using them. It was definitely a different approach and it made the book way more entertaining than it would have been otherwise.<br /><br />Final Thoughts: I am so excited for the next book in the series to come out! Michelle Sagara has impressed me yet again with another fantastic story. I loved how realistic and emotional Silence was and how the author handled some of the tough topics that were included and pivotal to the plot. I would recommend checking around your local bookstore for this one when it is released. I think fans of the paranormal, fans of Michelle Sagara, and people who enjoy rich characters with a unique plot line will definitely fall in love with Silence!eath of her boyfriend, and the author really makes you feel for her character. Even though Emma has had to deal with a ton of heartbreak, she is always willing to do for others and consistently puts the people that she cares about before herself. Emma is only of my favorite characters I have come across so far this year.<br /><br />I've been feeling burnt out when it comes to stories that include love triangles because they are so overused now, which drives me crazy. It was so nice to read a book that finally didn't have a love triangle. I thought there was one at first, but throughout the story it was clear that Emma only had one suitor. Even though there was no love triangle, there are still two guys who are around Emma quite a bit. Eric and Chase were very interesting characters because they began the story with the intent to kill Emma for their own reasons, but that doesn't really work out after they get to know Emma and find out more about her special abilities and how she intends on using them. It was definitely a different approach and it made the book way more entertaining than it would have been otherwise.<br /><br />Final Thoughts: I am so excited for the next book in the series to come out! Michelle Sagara has impressed me yet again with another fantastic story. I loved how realistic and emotional Silence was and how the author handled some of the tough topics that were included and pivotal to the plot. I would recommend checking around your local bookstore for this one when it is released. I think fans of the paranormal, fans of Michelle Sagara, and people who enjoy rich characters with a unique plot line will definitely fall in love with Silence!\n",
            "Star: 5\n"
          ],
          "name": "stdout"
        }
      ]
    },
    {
      "cell_type": "markdown",
      "metadata": {
        "id": "qC8yJ6jxpx4m",
        "colab_type": "text"
      },
      "source": [
        "We combine the review_headline and review_body to process them together.\n"
      ]
    },
    {
      "cell_type": "code",
      "metadata": {
        "id": "YZlKdelsorhC",
        "colab_type": "code",
        "colab": {}
      },
      "source": [
        "df['full_text'] = df[\"review_headline\"].map(str)+ '. ' + df[\"review_body\"]\n",
        "df_test['full_text'] = df_test[\"review_headline\"].map(str)+ '. ' + df_test[\"review_body\"]"
      ],
      "execution_count": 0,
      "outputs": []
    },
    {
      "cell_type": "code",
      "metadata": {
        "id": "KD_l985jorhE",
        "colab_type": "code",
        "outputId": "b3b144d8-1dc1-4a55-e572-997142044b66",
        "colab": {}
      },
      "source": [
        "#getting the number of the word in the entier dataset \n",
        "df.index = range(1099207)\n",
        "df['full_text'].apply(lambda x: len(x.split(' '))).sum()"
      ],
      "execution_count": 0,
      "outputs": [
        {
          "output_type": "execute_result",
          "data": {
            "text/plain": [
              "190001457"
            ]
          },
          "metadata": {
            "tags": []
          },
          "execution_count": 65
        }
      ]
    },
    {
      "cell_type": "code",
      "metadata": {
        "id": "DMJthdHforhH",
        "colab_type": "code",
        "outputId": "2afeb6e8-85df-4c82-bcdf-bf932b90340f",
        "colab": {}
      },
      "source": [
        "reviews = df['full_text']\n",
        "len(reviews)"
      ],
      "execution_count": 0,
      "outputs": [
        {
          "output_type": "execute_result",
          "data": {
            "text/plain": [
              "1099207"
            ]
          },
          "metadata": {
            "tags": []
          },
          "execution_count": 58
        }
      ]
    },
    {
      "cell_type": "markdown",
      "metadata": {
        "id": "GLi1WV-TorhK",
        "colab_type": "text"
      },
      "source": [
        "## 2. Text Cleaning"
      ]
    },
    {
      "cell_type": "code",
      "metadata": {
        "id": "R9_AI88XorhK",
        "colab_type": "code",
        "outputId": "b4df3972-4285-4217-fed6-18fd823091d7",
        "colab": {}
      },
      "source": [
        "import nltk\n",
        "nltk.download('punkt')\n",
        "nltk.download('stopwords')\n",
        "nltk.download('wordnet')\n",
        "nltk.download('averaged_perceptron_tagger')"
      ],
      "execution_count": 0,
      "outputs": [
        {
          "output_type": "stream",
          "text": [
            "[nltk_data] Downloading package punkt to\n",
            "[nltk_data]     C:\\Users\\raibe\\AppData\\Roaming\\nltk_data...\n",
            "[nltk_data]   Package punkt is already up-to-date!\n",
            "[nltk_data] Downloading package stopwords to\n",
            "[nltk_data]     C:\\Users\\raibe\\AppData\\Roaming\\nltk_data...\n",
            "[nltk_data]   Package stopwords is already up-to-date!\n",
            "[nltk_data] Downloading package wordnet to\n",
            "[nltk_data]     C:\\Users\\raibe\\AppData\\Roaming\\nltk_data...\n",
            "[nltk_data]   Package wordnet is already up-to-date!\n",
            "[nltk_data] Downloading package averaged_perceptron_tagger to\n",
            "[nltk_data]     C:\\Users\\raibe\\AppData\\Roaming\\nltk_data...\n",
            "[nltk_data]   Package averaged_perceptron_tagger is already up-to-\n",
            "[nltk_data]       date!\n"
          ],
          "name": "stderr"
        },
        {
          "output_type": "execute_result",
          "data": {
            "text/plain": [
              "True"
            ]
          },
          "metadata": {
            "tags": []
          },
          "execution_count": 60
        }
      ]
    },
    {
      "cell_type": "markdown",
      "metadata": {
        "id": "zSHWBocup6fS",
        "colab_type": "text"
      },
      "source": [
        "We defined a couple of functions which will help not only tokenizing the text but also engineering new features."
      ]
    },
    {
      "cell_type": "code",
      "metadata": {
        "id": "YnkMzVztorhO",
        "colab_type": "code",
        "colab": {}
      },
      "source": [
        "def sequence_length(text):\n",
        "  ''' Calculates the length of the sequence '''\n",
        "    return(len(text))\n",
        "\n",
        "def capital_proportion(text):\n",
        "   ''' Calculates the proportion of capital letters '''\n",
        "    import re\n",
        "    r = re.findall('([A-Z])', text)\n",
        "    return(len(r) / len(text))\n",
        "\n",
        "def char_cleaner(text, character_list):\n",
        "  ''' Removes undesired characters '''\n",
        "    for char in character_list:\n",
        "        text = text.replace(char,'')\n",
        "    return(text)\n",
        "\n",
        "def negation_organizer(text):\n",
        "  ''' Organizes some of the modal verbs '''\n",
        "\n",
        "    text=text.replace('don\\'t', 'do not' )\n",
        "    text=text.replace('dont', 'do not' )\n",
        "\n",
        "    text=text.replace('won\\'t', 'will not' )\n",
        "    text=text.replace('wont', 'will not' )\n",
        "\n",
        "    text=text.replace('shouldn\\'t', 'should not' )\n",
        "    text=text.replace('shouldnt', 'should not' )\n",
        "\n",
        "    text=text.replace('couldn\\'t', 'could not' )\n",
        "    text=text.replace('couldt', 'could not' )\n",
        "\n",
        "    text=text.replace('haven\\'t', 'have not' )\n",
        "    text=text.replace('havent', 'have not' )\n",
        "\n",
        "    text=text.replace('hadn\\'t', 'had not' )\n",
        "    text=text.replace('hadnt', 'had not' )\n",
        "\n",
        "    text=text.replace('mustn\\'t', 'must not' )\n",
        "    text=text.replace('mustnt', 'must not' )\n",
        "\n",
        "    text=text.replace('should\\'ve', 'should have' )\n",
        "\n",
        "    text=text.replace('can\\'t', 'can not' )\n",
        "    text=text.replace('cant', 'can not' )\n",
        "\n",
        "    text=text.replace('might\\'t', 'might not' )\n",
        "    text=text.replace('might', 'may' )\n",
        "\n",
        "    text=text.replace('I\\'m', 'I am' )\n",
        "    text=text.replace('Im', 'I am' )\n",
        "    return(text)\n",
        "\n",
        "def standardize_punctuation(text, punct):\n",
        "  ''' Removes repeated punctuations, \n",
        "  i.e. returns '!' instead of '!!!!'  '''\n",
        "    import re\n",
        "    p = '\\\\' + punct +'+'\n",
        "    if punct in text:\n",
        "        text = re.sub(p, punct,text)\n",
        "\n",
        "    return(text)\n",
        "\n",
        "def referred_in(header, text):\n",
        "  ''' Returns 1 if the name of the book is referred in \n",
        "  review_headline or review_body'''\n",
        "    import nltk\n",
        "    from nltk.corpus import stopwords\n",
        "    stop_words = stopwords.words(\"english\")\n",
        "\n",
        "    header = nltk.word_tokenize(header)\n",
        "    header = [word.lower() for word in header if word.isalpha()]\n",
        "    header = [word for word in header if word not in stop_words]\n",
        "\n",
        "    text = nltk.word_tokenize(text)\n",
        "    text = [word.lower() for word in text if word.isalpha()] \n",
        "    text = [word for word in text if word not in stop_words]\n",
        "\n",
        "    text_set = set(text)\n",
        "    header_set = set(header)\n",
        "\n",
        "    if len(header_set.intersection(text_set)) > 1:\n",
        "        return(True)\n",
        "    else:\n",
        "        return(False)\n",
        "    \n",
        "\n",
        "def tokenize_named_entities(text): \n",
        "  \n",
        "  ''' As there are many book characters / Author names/ places in the text body,\n",
        "  we wanted not to lose them totally during word2vec process, and replaced\n",
        "  all the words which are all small-letters followed by a capital letter with \n",
        "  the label 'namedentity'. We tried to exclude the sentence beginnings from this rule.\n",
        "  '''\n",
        "    import nltk\n",
        "    sentences = nltk.sent_tokenize(text)\n",
        "    w_list = []\n",
        "    for sent in sentences:\n",
        "        words = nltk.word_tokenize(sent) \n",
        "        for index,token in enumerate(words):\n",
        "            if index > 0 and len(re.findall(r'([A-Z])', token)) == 1 and len(token) >1:\n",
        "                w_list.append('namedentity')\n",
        "            else:\n",
        "                if token != '.':\n",
        "                    if '.' in token and len(re.findall(r'([A-Z])', token)) > 0:\n",
        "                        w_list.append('namedentity')\n",
        "                    else:\n",
        "                        w_list.append(token.lower().replace('.',''))\n",
        "    return(w_list)\n",
        "\n",
        "def tokenize(text):\n",
        "  '''\n",
        "  Applies usual tokenization\n",
        "  '''\n",
        "    import nltk\n",
        "    words = nltk.word_tokenize(text) \n",
        "    words = [token.lower() for token in words]\n",
        "    return(words)\n",
        "\n",
        "\n",
        "def stopwords_organizer(text):\n",
        "   ''' Custom stopwords, excluding negations  '''\n",
        "    from nltk.corpus import stopwords\n",
        "    stop_words = stopwords.words(\"english\")\n",
        "    stop_words_custom = [word for word in  stop_words if word not in ['what', 'why','how',\n",
        "                                                    'such', 'no', 'nor', \n",
        "                                                    'not','only', 'more',\n",
        "                                                    'too', 'very','just',\n",
        "                                                    'can','should','will',\n",
        "                                                    'when']]\n",
        "    stop_words_custom.append('br')\n",
        "    stop_words_custom.append('us')\n",
        "\n",
        "    text = [word for word in text if word not in stop_words_custom and (word.isalpha() or word in ['!','?'])]\n",
        "    return(text)\n",
        "\n",
        "# Lemmatize with POS Tag\n",
        "\n",
        "\n",
        "def get_wordnet_pos(word):\n",
        "    \"\"\"Map POS tag to first character lemmatize() accepts\"\"\"\n",
        "    tag = nltk.pos_tag([word])[0][1][0].upper()\n",
        "    tag_dict = {\"J\": wordnet.ADJ,\n",
        "                \"N\": wordnet.NOUN,\n",
        "                \"V\": wordnet.VERB,\n",
        "                \"R\": wordnet.ADV}\n",
        "    return tag_dict.get(tag, wordnet.NOUN)\n",
        "\n",
        "def lemmatize(text):\n",
        "    from nltk.stem import WordNetLemmatizer\n",
        "    lemmatizer = WordNetLemmatizer()\n",
        "    text = [lemmatizer.lemmatize(word, get_wordnet_pos(word)) for word in text]\n",
        "    return(text)"
      ],
      "execution_count": 0,
      "outputs": []
    },
    {
      "cell_type": "code",
      "metadata": {
        "scrolled": true,
        "id": "eESG9mREorhQ",
        "colab_type": "code",
        "outputId": "e9e9a904-7b78-4f97-8971-70cfca2ca6ca",
        "colab": {}
      },
      "source": [
        "import re\n",
        "from bs4 import BeautifulSoup\n",
        "prep = []\n",
        "for index in range(0,  len(reviews)):\n",
        "    if index % 1729 == 0:\n",
        "        print(index)\n",
        "    try:\n",
        "        t0 = negation_organizer(reviews[index])\n",
        "        t1 = BeautifulSoup(t0).get_text()\n",
        "        t2 = standardize_punctuation(t1, '!')\n",
        "        t3 = standardize_punctuation(t2 , '?')\n",
        "        t4 = tokenize_named_entities(t3)\n",
        "        t5 = stopwords_organizer(t4)\n",
        "        t6 = lemmatize(t5)\n",
        "        prep.append(t6)\n",
        "    except:\n",
        "        print(index,'. Exception occurred \\n')"
      ],
      "execution_count": 0,
      "outputs": [
        {
          "output_type": "stream",
          "text": [
            "0\n",
            "1729\n",
            "3458\n",
            "5187\n",
            "6916\n",
            "8645\n",
            "10374\n",
            "12103\n",
            "13832\n",
            "15561\n",
            "17290\n",
            "19019\n",
            "20748\n",
            "22477\n",
            "24206\n",
            "25935\n",
            "27664\n",
            "29393\n",
            "31122\n",
            "32851\n",
            "34580\n",
            "36309\n",
            "38038\n",
            "39767\n",
            "41496\n",
            "43225\n",
            "44954\n",
            "46683\n",
            "48412\n",
            "50141\n",
            "51870\n",
            "53599\n",
            "55328\n",
            "57057\n",
            "58786\n",
            "60515\n",
            "62244\n",
            "63973\n",
            "65702\n",
            "67431\n",
            "69160\n",
            "70889\n",
            "72618\n",
            "74347\n",
            "76076\n",
            "77805\n",
            "79534\n",
            "81263\n",
            "82992\n",
            "84721\n",
            "86450\n",
            "88179\n",
            "89908\n",
            "91637\n",
            "93366\n",
            "95095\n",
            "96824\n",
            "98553\n",
            "100282\n",
            "102011\n",
            "103740\n"
          ],
          "name": "stdout"
        },
        {
          "output_type": "stream",
          "text": [
            "C:\\Users\\raibe\\Anaconda3\\lib\\site-packages\\bs4\\__init__.py:272: UserWarning: \"b'...... .... ..... ...... ... .... .. ....... ...... .... ........ ... .. . ....... ........ ...... ........... ... ...... ....... .... .. ........ ..... ...... .....'\" looks like a filename, not markup. You should probably open this file and pass the filehandle into Beautiful Soup.\n",
            "  ' Beautiful Soup.' % markup)\n"
          ],
          "name": "stderr"
        },
        {
          "output_type": "stream",
          "text": [
            "105469\n",
            "107198\n",
            "108927\n",
            "110656\n",
            "112385\n",
            "114114\n",
            "115843\n",
            "117572\n",
            "119301\n",
            "121030\n",
            "122759\n",
            "124488\n",
            "126217\n",
            "127946\n",
            "129675\n",
            "131404\n",
            "133133\n",
            "134862\n",
            "136591\n",
            "138320\n",
            "140049\n",
            "141778\n",
            "143507\n",
            "145236\n",
            "146965\n",
            "148694\n",
            "150423\n",
            "152152\n",
            "153881\n",
            "155610\n",
            "157339\n",
            "159068\n",
            "160797\n",
            "162526\n",
            "164255\n",
            "165984\n",
            "167713\n",
            "169442\n",
            "171171\n",
            "172900\n",
            "174629\n",
            "176358\n",
            "178087\n",
            "179816\n",
            "181545\n",
            "183274\n",
            "185003\n",
            "186732\n",
            "188461\n",
            "190190\n",
            "191919\n",
            "193648\n",
            "195377\n",
            "197106\n",
            "198835\n",
            "200564\n",
            "202293\n",
            "204022\n",
            "205751\n",
            "207480\n",
            "209209\n",
            "210938\n",
            "212667\n",
            "214396\n",
            "216125\n",
            "217854\n",
            "219583\n",
            "221312\n",
            "223041\n",
            "224770\n",
            "226499\n",
            "228228\n",
            "229957\n",
            "231686\n",
            "233415\n",
            "235144\n",
            "236873\n",
            "238602\n",
            "240331\n",
            "242060\n",
            "243789\n",
            "245518\n",
            "247247\n",
            "248976\n",
            "250705\n",
            "252434\n",
            "254163\n",
            "255892\n",
            "257621\n",
            "259350\n",
            "261079\n",
            "262808\n",
            "264537\n",
            "266266\n",
            "267995\n",
            "269724\n",
            "271453\n",
            "273182\n",
            "274911\n",
            "276640\n",
            "278369\n",
            "280098\n",
            "281827\n",
            "283556\n",
            "285285\n",
            "287014\n",
            "288743\n",
            "290472\n",
            "292201\n",
            "293930\n",
            "295659\n",
            "297388\n",
            "299117\n",
            "300846\n",
            "302575\n",
            "304304\n",
            "306033\n",
            "307762\n",
            "309491\n",
            "311220\n",
            "312949\n",
            "314678\n",
            "316407\n",
            "318136\n",
            "319865\n",
            "321594\n",
            "323323\n",
            "325052\n",
            "326781\n",
            "328510\n",
            "330239\n",
            "331968\n",
            "333697\n",
            "335426\n",
            "337155\n",
            "338884\n",
            "340613\n",
            "342342\n",
            "344071\n",
            "345800\n",
            "347529\n",
            "349258\n",
            "350987\n",
            "352716\n",
            "354445\n",
            "356174\n",
            "357903\n",
            "359632\n",
            "361361\n",
            "363090\n",
            "364819\n",
            "366548\n",
            "368277\n",
            "370006\n",
            "371735\n",
            "373464\n",
            "375193\n",
            "376922\n",
            "378651\n",
            "380380\n",
            "382109\n",
            "383838\n",
            "385567\n",
            "387296\n",
            "389025\n",
            "390754\n",
            "392483\n",
            "394212\n",
            "395941\n",
            "397670\n",
            "399399\n",
            "401128\n",
            "402857\n",
            "404586\n",
            "406315\n",
            "408044\n",
            "409773\n",
            "411502\n",
            "413231\n",
            "414960\n",
            "416689\n",
            "418418\n",
            "420147\n",
            "421876\n",
            "423605\n",
            "425334\n",
            "427063\n",
            "428792\n",
            "430521\n",
            "432250\n",
            "433979\n",
            "435708\n",
            "437437\n",
            "439166\n",
            "440895\n",
            "442624\n",
            "444353\n",
            "446082\n",
            "447811\n",
            "449540\n",
            "451269\n",
            "452998\n",
            "454727\n",
            "456456\n",
            "458185\n",
            "459914\n",
            "461643\n",
            "463372\n",
            "465101\n",
            "466830\n",
            "468559\n",
            "470288\n",
            "472017\n",
            "473746\n",
            "475475\n",
            "477204\n",
            "478933\n",
            "480662\n",
            "482391\n",
            "484120\n",
            "485849\n",
            "487578\n",
            "489307\n",
            "491036\n",
            "492765\n",
            "494494\n",
            "496223\n",
            "497952\n",
            "499681\n",
            "501410\n",
            "503139\n",
            "504868\n",
            "506597\n",
            "508326\n",
            "510055\n",
            "511784\n",
            "513513\n",
            "515242\n",
            "516971\n",
            "518700\n",
            "520429\n",
            "522158\n",
            "523887\n",
            "525616\n",
            "527345\n",
            "529074\n",
            "530803\n",
            "532532\n",
            "534261\n",
            "535990\n",
            "537719\n",
            "539448\n",
            "541177\n",
            "542906\n",
            "544635\n",
            "546364\n",
            "548093\n",
            "549822\n",
            "551551\n",
            "553280\n",
            "555009\n",
            "556738\n",
            "558467\n",
            "560196\n",
            "561925\n",
            "563654\n",
            "565383\n",
            "567112\n",
            "568841\n",
            "570570\n",
            "572299\n",
            "574028\n",
            "575757\n",
            "577486\n",
            "579215\n",
            "580944\n",
            "582673\n",
            "584402\n",
            "586131\n",
            "587860\n",
            "589589\n",
            "591318\n",
            "593047\n",
            "594776\n",
            "596505\n",
            "598234\n",
            "599963\n",
            "601692\n",
            "603421\n",
            "605150\n",
            "606879\n",
            "608608\n",
            "610337\n",
            "612066\n",
            "613795\n",
            "615524\n",
            "617253\n",
            "618982\n",
            "620711\n",
            "622440\n",
            "624169\n",
            "625898\n",
            "627627\n",
            "629356\n",
            "631085\n",
            "632814\n",
            "634543\n",
            "636272\n",
            "638001\n",
            "639730\n",
            "641459\n",
            "643188\n",
            "644917\n",
            "646646\n",
            "648375\n",
            "650104\n",
            "651833\n",
            "653562\n",
            "655291\n",
            "657020\n",
            "658749\n",
            "660478\n",
            "662207\n",
            "663936\n",
            "665665\n",
            "667394\n",
            "669123\n",
            "670852\n",
            "672581\n",
            "674310\n",
            "676039\n",
            "677768\n",
            "679497\n",
            "681226\n",
            "682955\n",
            "684684\n",
            "686413\n",
            "688142\n",
            "689871\n",
            "691600\n",
            "693329\n",
            "695058\n",
            "696787\n",
            "698516\n",
            "700245\n",
            "701974\n",
            "703703\n",
            "705432\n",
            "707161\n",
            "708890\n",
            "710619\n",
            "712348\n",
            "714077\n",
            "715806\n",
            "717535\n",
            "719264\n",
            "720993\n",
            "722722\n",
            "724451\n",
            "726180\n",
            "727909\n",
            "729638\n",
            "731367\n",
            "733096\n",
            "734825\n",
            "736554\n",
            "738283\n",
            "740012\n",
            "741741\n",
            "743470\n",
            "745199\n",
            "746928\n",
            "748657\n",
            "750386\n",
            "752115\n",
            "753844\n",
            "755573\n",
            "757302\n",
            "759031\n",
            "760760\n",
            "762489\n",
            "764218\n",
            "765947\n",
            "767676\n",
            "769405\n",
            "771134\n",
            "772863\n",
            "774592\n",
            "776321\n",
            "778050\n",
            "779779\n",
            "781508\n",
            "783237\n",
            "784966\n",
            "786695\n",
            "788424\n",
            "790153\n",
            "791882\n",
            "793611\n",
            "795340\n",
            "797069\n",
            "798798\n",
            "800527\n",
            "802256\n",
            "803985\n",
            "805714\n",
            "807443\n",
            "809172\n",
            "810901\n",
            "812630\n",
            "814359\n",
            "816088\n",
            "817817\n",
            "819546\n",
            "821275\n",
            "823004\n",
            "824733\n",
            "826462\n",
            "828191\n",
            "829920\n",
            "831649\n",
            "833378\n",
            "835107\n",
            "836836\n",
            "838565\n",
            "840294\n",
            "842023\n",
            "843752\n",
            "845481\n",
            "847210\n",
            "848939\n",
            "850668\n",
            "852397\n",
            "854126\n",
            "855855\n",
            "857584\n",
            "859313\n",
            "861042\n",
            "862771\n",
            "864500\n",
            "866229\n",
            "867958\n",
            "869687\n",
            "871416\n",
            "873145\n",
            "874874\n",
            "876603\n",
            "878332\n",
            "880061\n",
            "881790\n",
            "883519\n",
            "885248\n",
            "886977\n",
            "888706\n",
            "890435\n",
            "892164\n",
            "893893\n",
            "895622\n",
            "897351\n",
            "899080\n",
            "900809\n",
            "902538\n",
            "904267\n",
            "905996\n",
            "907725\n",
            "909454\n",
            "911183\n",
            "912912\n",
            "914641\n",
            "916370\n",
            "918099\n",
            "919828\n",
            "921557\n",
            "923286\n",
            "925015\n",
            "926744\n",
            "928473\n",
            "930202\n",
            "931931\n",
            "933660\n",
            "935389\n",
            "937118\n",
            "938847\n",
            "940576\n",
            "942305\n",
            "944034\n",
            "945763\n",
            "947492\n",
            "949221\n",
            "950950\n",
            "952679\n",
            "954408\n",
            "956137\n",
            "957866\n",
            "959595\n",
            "961324\n",
            "963053\n",
            "964782\n",
            "966511\n",
            "968240\n",
            "969969\n",
            "971698\n",
            "973427\n",
            "975156\n",
            "976885\n",
            "978614\n",
            "980343\n",
            "982072\n",
            "983801\n",
            "985530\n",
            "987259\n",
            "988988\n",
            "990717\n",
            "992446\n",
            "994175\n",
            "995904\n",
            "997633\n",
            "999362\n",
            "1001091\n",
            "1002820\n",
            "1004549\n",
            "1006278\n",
            "1008007\n",
            "1009736\n",
            "1011465\n",
            "1013194\n",
            "1014923\n",
            "1016652\n",
            "1018381\n",
            "1020110\n",
            "1021839\n",
            "1023568\n",
            "1025297\n",
            "1027026\n",
            "1028755\n",
            "1030484\n",
            "1032213\n",
            "1033942\n",
            "1035671\n",
            "1037400\n",
            "1039129\n",
            "1040858\n",
            "1042587\n",
            "1044316\n",
            "1046045\n",
            "1047774\n",
            "1049503\n",
            "1051232\n",
            "1052961\n",
            "1054690\n",
            "1056419\n",
            "1058148\n",
            "1059877\n",
            "1061606\n",
            "1063335\n",
            "1065064\n",
            "1066793\n",
            "1068522\n",
            "1070251\n",
            "1071980\n",
            "1073709\n",
            "1075438\n",
            "1077167\n",
            "1078896\n",
            "1080625\n",
            "1082354\n",
            "1084083\n",
            "1085812\n",
            "1087541\n",
            "1089270\n",
            "1090999\n",
            "1092728\n",
            "1094457\n",
            "1096186\n",
            "1097915\n"
          ],
          "name": "stdout"
        }
      ]
    },
    {
      "cell_type": "code",
      "metadata": {
        "id": "VU1MYd2IorhT",
        "colab_type": "code",
        "colab": {}
      },
      "source": [
        "import pickle\n",
        "with open('train_prep_last.pickle', 'wb') as f:\n",
        "    # Pickle the 'data' dictionary using the highest protocol available.\n",
        "    pickle.dump(prep, f)"
      ],
      "execution_count": 0,
      "outputs": []
    },
    {
      "cell_type": "code",
      "metadata": {
        "id": "5nnT2Hm2orhV",
        "colab_type": "code",
        "colab": {}
      },
      "source": [
        "with open('train_prep_last.pickle', 'rb') as f:\n",
        "    # The protocol version used is detected automatically, so we do not\n",
        "    # have to specify it.\n",
        "    train_clean_reviews = pickle.load(f)"
      ],
      "execution_count": 0,
      "outputs": []
    },
    {
      "cell_type": "code",
      "metadata": {
        "id": "qrbh2FVJorhY",
        "colab_type": "code",
        "outputId": "1c34113d-5cdc-48a7-b3ce-41ebabe0bfac",
        "colab": {}
      },
      "source": [
        "len(train_clean_reviews)"
      ],
      "execution_count": 0,
      "outputs": [
        {
          "output_type": "execute_result",
          "data": {
            "text/plain": [
              "1099207"
            ]
          },
          "metadata": {
            "tags": []
          },
          "execution_count": 95
        }
      ]
    },
    {
      "cell_type": "code",
      "metadata": {
        "id": "-bW1BBGaorhc",
        "colab_type": "code",
        "colab": {}
      },
      "source": [
        "df[\"train_clean_reviews\"] = train_clean_reviews"
      ],
      "execution_count": 0,
      "outputs": []
    },
    {
      "cell_type": "markdown",
      "metadata": {
        "id": "brMi77XPorhe",
        "colab_type": "text"
      },
      "source": [
        "## 3. Word2vec Implementation"
      ]
    },
    {
      "cell_type": "markdown",
      "metadata": {
        "id": "9KhUAIH_spfx",
        "colab_type": "text"
      },
      "source": [
        "We decided to use Continuous Bag of Words (CBOW) following this StackOverflow discussion: https://stackoverflow.com/questions/38287772/cbow-v-s-skip-gram-why-invert-context-and-target-words\n",
        "\n",
        "CBOW is argued to be faster and still good for frequent words.\n",
        "\n",
        "The minimum count is 5, context window is 10, number of iterations is 300, and size is 100.\n",
        "\n",
        "We saved it for later uses."
      ]
    },
    {
      "cell_type": "code",
      "metadata": {
        "id": "M9fTF2ARsZIW",
        "colab_type": "code",
        "colab": {}
      },
      "source": [
        "from gensim.models import Word2Vec    \n",
        "\n",
        "# Train a Word2Vec model\n",
        "word2vec_model = Word2Vec(prep, \n",
        "                 min_count=5,\n",
        "                 window= 10,\n",
        "                 iter = 300,\n",
        "                 sg=0, # CBOW\n",
        "                 size= 100)\n",
        "\n",
        "filename = 'embedding_word2vec.txt'\n",
        "word2vec_model.wv.save_word2vec_format(filename, binary = False)"
      ],
      "execution_count": 0,
      "outputs": []
    },
    {
      "cell_type": "code",
      "metadata": {
        "id": "-IOQc4ASorhf",
        "colab_type": "code",
        "colab": {}
      },
      "source": [
        "EMBEDDING_DIM = 100"
      ],
      "execution_count": 0,
      "outputs": []
    },
    {
      "cell_type": "markdown",
      "metadata": {
        "id": "-wvg5ofoorhp",
        "colab_type": "text"
      },
      "source": [
        "## 4. Data Downsampling"
      ]
    },
    {
      "cell_type": "markdown",
      "metadata": {
        "id": "gzVIvrAjt7aM",
        "colab_type": "text"
      },
      "source": [
        "As we have seen previously, we have a class imbalance problem. We addressed this issue by downsampling our data. That means, we have taken stratified samples from each ranking levels, by the number of the least occurring star."
      ]
    },
    {
      "cell_type": "code",
      "metadata": {
        "id": "wixnOEbmorhq",
        "colab_type": "code",
        "outputId": "2ea905f2-059c-4cd7-9d9c-8882fa1131ce",
        "colab": {}
      },
      "source": [
        "df['star_rating'].value_counts()"
      ],
      "execution_count": 0,
      "outputs": [
        {
          "output_type": "execute_result",
          "data": {
            "text/plain": [
              "5    675733\n",
              "4    208329\n",
              "3     91574\n",
              "1     69239\n",
              "2     54332\n",
              "Name: star_rating, dtype: int64"
            ]
          },
          "metadata": {
            "tags": []
          },
          "execution_count": 245
        }
      ]
    },
    {
      "cell_type": "code",
      "metadata": {
        "id": "ayxVdfRsorhu",
        "colab_type": "code",
        "colab": {}
      },
      "source": [
        "# Separate classes\n",
        "df_star5 = df[df.star_rating == 5]\n",
        "df_star4 = df[df.star_rating == 4]\n",
        "df_star3 = df[df.star_rating == 3]\n",
        "df_star2 = df[df.star_rating == 2] \n",
        "df_star1 = df[df.star_rating == 1]"
      ],
      "execution_count": 0,
      "outputs": []
    },
    {
      "cell_type": "code",
      "metadata": {
        "id": "vccbOXoTorhw",
        "colab_type": "code",
        "colab": {}
      },
      "source": [
        "from sklearn.utils import resample\n",
        "# Downsample majority class\n",
        "df_star5_downsampled = resample(df_star5, \n",
        "                                 replace=False,    # sample without replacement\n",
        "                                 n_samples=54332,     # 54332 to match minority class\n",
        "                                 random_state=123) # reproducible results\n",
        "df_star4_downsampled = resample(df_star4, \n",
        "                                 replace=False,    # sample without replacement\n",
        "                                 n_samples=54332,     # to match minority class\n",
        "                                 random_state=54332) # reproducible results\n",
        "df_star3_downsampled = resample(df_star3, \n",
        "                                 replace=False,    # sample without replacement\n",
        "                                 n_samples=54332,     # to match minority class\n",
        "                                 random_state=123) # reproducible results\n",
        "df_star1_downsampled = resample(df_star1, \n",
        "                                 replace=False,    # sample without replacement\n",
        "                                 n_samples=54332,     # to match minority class\n",
        "                                 random_state=123) # reproducible results\n",
        "\n",
        "df_star2_downsampled = resample(df_star2, \n",
        "                                 replace=False,    # sample without replacement\n",
        "                                 n_samples=54332,     # to match minority class\n",
        "                                 random_state=123) # reproducible results"
      ],
      "execution_count": 0,
      "outputs": []
    },
    {
      "cell_type": "code",
      "metadata": {
        "id": "NbAJlIaWorhy",
        "colab_type": "code",
        "outputId": "f58cee5f-629d-411b-e135-4ec759d578d9",
        "colab": {}
      },
      "source": [
        "# Combine minority class with downsampled majority class\n",
        "df_downsampled = pd.concat([df_star5_downsampled, df_star4_downsampled, df_star3_downsampled, df_star2_downsampled, df_star1_downsampled])\n",
        " \n",
        "# Display new class counts\n",
        "df_downsampled.star_rating.value_counts()"
      ],
      "execution_count": 0,
      "outputs": [
        {
          "output_type": "execute_result",
          "data": {
            "text/plain": [
              "5    54332\n",
              "4    54332\n",
              "3    54332\n",
              "2    54332\n",
              "1    54332\n",
              "Name: star_rating, dtype: int64"
            ]
          },
          "metadata": {
            "tags": []
          },
          "execution_count": 312
        }
      ]
    },
    {
      "cell_type": "code",
      "metadata": {
        "id": "fqHpeBdLorh0",
        "colab_type": "code",
        "outputId": "8ef2b10d-b979-4401-fb24-d956615a1add",
        "colab": {}
      },
      "source": [
        "df_downsampled = df_downsampled.reset_index()\n",
        "df_downsampled.head()"
      ],
      "execution_count": 0,
      "outputs": [
        {
          "output_type": "execute_result",
          "data": {
            "text/html": [
              "<div>\n",
              "<style scoped>\n",
              "    .dataframe tbody tr th:only-of-type {\n",
              "        vertical-align: middle;\n",
              "    }\n",
              "\n",
              "    .dataframe tbody tr th {\n",
              "        vertical-align: top;\n",
              "    }\n",
              "\n",
              "    .dataframe thead th {\n",
              "        text-align: right;\n",
              "    }\n",
              "</style>\n",
              "<table border=\"1\" class=\"dataframe\">\n",
              "  <thead>\n",
              "    <tr style=\"text-align: right;\">\n",
              "      <th></th>\n",
              "      <th>index</th>\n",
              "      <th>Unnamed: 0</th>\n",
              "      <th>product_id</th>\n",
              "      <th>product_title</th>\n",
              "      <th>star_rating</th>\n",
              "      <th>helpful_votes</th>\n",
              "      <th>total_votes</th>\n",
              "      <th>verified_purchase</th>\n",
              "      <th>review_headline</th>\n",
              "      <th>review_body</th>\n",
              "      <th>full_text</th>\n",
              "      <th>train_clean_reviews</th>\n",
              "    </tr>\n",
              "  </thead>\n",
              "  <tbody>\n",
              "    <tr>\n",
              "      <th>0</th>\n",
              "      <td>290979</td>\n",
              "      <td>290980</td>\n",
              "      <td>0822333899</td>\n",
              "      <td>Continental Crossroads: Remapping U.S.-Mexico ...</td>\n",
              "      <td>5</td>\n",
              "      <td>0</td>\n",
              "      <td>1</td>\n",
              "      <td>Y</td>\n",
              "      <td>required reading</td>\n",
              "      <td>This book is required reading for a class I am...</td>\n",
              "      <td>required reading. This book is required readin...</td>\n",
              "      <td>[require, reading, book, require, reading, cla...</td>\n",
              "    </tr>\n",
              "    <tr>\n",
              "      <th>1</th>\n",
              "      <td>460378</td>\n",
              "      <td>460379</td>\n",
              "      <td>0976516527</td>\n",
              "      <td>Manion's German WWII Militaria Price Guide 200...</td>\n",
              "      <td>5</td>\n",
              "      <td>4</td>\n",
              "      <td>4</td>\n",
              "      <td>N</td>\n",
              "      <td>MANION'S GERMAN WORLD WAR II MILITARIA PRICE G...</td>\n",
              "      <td>MANION'S GERMAN WORLD WAR II MILITARIA PRICE G...</td>\n",
              "      <td>MANION'S GERMAN WORLD WAR II MILITARIA PRICE G...</td>\n",
              "      <td>[manion, namedentity, german, world, war, ii, ...</td>\n",
              "    </tr>\n",
              "    <tr>\n",
              "      <th>2</th>\n",
              "      <td>1087387</td>\n",
              "      <td>1087390</td>\n",
              "      <td>0375407359</td>\n",
              "      <td>The People's Tycoon: Henry Ford and the Americ...</td>\n",
              "      <td>5</td>\n",
              "      <td>8</td>\n",
              "      <td>8</td>\n",
              "      <td>N</td>\n",
              "      <td>Thorough biography of complex, confounding Hen...</td>\n",
              "      <td>Henry Ford did not invent the automobile, but ...</td>\n",
              "      <td>Thorough biography of complex, confounding Hen...</td>\n",
              "      <td>[thorough, biography, complex, confound, named...</td>\n",
              "    </tr>\n",
              "    <tr>\n",
              "      <th>3</th>\n",
              "      <td>995502</td>\n",
              "      <td>995504</td>\n",
              "      <td>1593373236</td>\n",
              "      <td>The Everything Meals For A Month Cookbook: Sma...</td>\n",
              "      <td>5</td>\n",
              "      <td>160</td>\n",
              "      <td>162</td>\n",
              "      <td>N</td>\n",
              "      <td>Great, Practical Recipes</td>\n",
              "      <td>I have been playing around with the idea of OA...</td>\n",
              "      <td>Great, Practical Recipes. I have been playing ...</td>\n",
              "      <td>[great, namedentity, namedentity, play, around...</td>\n",
              "    </tr>\n",
              "    <tr>\n",
              "      <th>4</th>\n",
              "      <td>444005</td>\n",
              "      <td>444006</td>\n",
              "      <td>0312378750</td>\n",
              "      <td>Tell No Lies</td>\n",
              "      <td>5</td>\n",
              "      <td>3</td>\n",
              "      <td>4</td>\n",
              "      <td>N</td>\n",
              "      <td>Outstanding in every way</td>\n",
              "      <td>I read just about every legal thriller I can f...</td>\n",
              "      <td>Outstanding in every way. I read just about ev...</td>\n",
              "      <td>[outstanding, every, way, read, just, every, l...</td>\n",
              "    </tr>\n",
              "  </tbody>\n",
              "</table>\n",
              "</div>"
            ],
            "text/plain": [
              "     index  Unnamed: 0  product_id  \\\n",
              "0   290979      290980  0822333899   \n",
              "1   460378      460379  0976516527   \n",
              "2  1087387     1087390  0375407359   \n",
              "3   995502      995504  1593373236   \n",
              "4   444005      444006  0312378750   \n",
              "\n",
              "                                       product_title  star_rating  \\\n",
              "0  Continental Crossroads: Remapping U.S.-Mexico ...            5   \n",
              "1  Manion's German WWII Militaria Price Guide 200...            5   \n",
              "2  The People's Tycoon: Henry Ford and the Americ...            5   \n",
              "3  The Everything Meals For A Month Cookbook: Sma...            5   \n",
              "4                                       Tell No Lies            5   \n",
              "\n",
              "   helpful_votes  total_votes verified_purchase  \\\n",
              "0              0            1                 Y   \n",
              "1              4            4                 N   \n",
              "2              8            8                 N   \n",
              "3            160          162                 N   \n",
              "4              3            4                 N   \n",
              "\n",
              "                                     review_headline  \\\n",
              "0                                   required reading   \n",
              "1  MANION'S GERMAN WORLD WAR II MILITARIA PRICE G...   \n",
              "2  Thorough biography of complex, confounding Hen...   \n",
              "3                           Great, Practical Recipes   \n",
              "4                           Outstanding in every way   \n",
              "\n",
              "                                         review_body  \\\n",
              "0  This book is required reading for a class I am...   \n",
              "1  MANION'S GERMAN WORLD WAR II MILITARIA PRICE G...   \n",
              "2  Henry Ford did not invent the automobile, but ...   \n",
              "3  I have been playing around with the idea of OA...   \n",
              "4  I read just about every legal thriller I can f...   \n",
              "\n",
              "                                           full_text  \\\n",
              "0  required reading. This book is required readin...   \n",
              "1  MANION'S GERMAN WORLD WAR II MILITARIA PRICE G...   \n",
              "2  Thorough biography of complex, confounding Hen...   \n",
              "3  Great, Practical Recipes. I have been playing ...   \n",
              "4  Outstanding in every way. I read just about ev...   \n",
              "\n",
              "                                 train_clean_reviews  \n",
              "0  [require, reading, book, require, reading, cla...  \n",
              "1  [manion, namedentity, german, world, war, ii, ...  \n",
              "2  [thorough, biography, complex, confound, named...  \n",
              "3  [great, namedentity, namedentity, play, around...  \n",
              "4  [outstanding, every, way, read, just, every, l...  "
            ]
          },
          "metadata": {
            "tags": []
          },
          "execution_count": 313
        }
      ]
    },
    {
      "cell_type": "code",
      "metadata": {
        "id": "5DO2juq4orh2",
        "colab_type": "code",
        "outputId": "f630f903-2244-4812-bfcd-ee4a08aa1901",
        "colab": {}
      },
      "source": [
        "df_downsampled.shape"
      ],
      "execution_count": 0,
      "outputs": [
        {
          "output_type": "execute_result",
          "data": {
            "text/plain": [
              "(271660, 12)"
            ]
          },
          "metadata": {
            "tags": []
          },
          "execution_count": 314
        }
      ]
    },
    {
      "cell_type": "markdown",
      "metadata": {
        "id": "usOLSGhworh4",
        "colab_type": "text"
      },
      "source": [
        " ## 5. Encoding the Target Variable"
      ]
    },
    {
      "cell_type": "code",
      "metadata": {
        "id": "swq2UQVPorh5",
        "colab_type": "code",
        "outputId": "66c6b667-14b7-4d67-c9d4-c744622ccf7f",
        "colab": {}
      },
      "source": [
        "from sklearn.preprocessing import LabelEncoder\n",
        "from keras.utils import np_utils\n",
        "\n",
        "encoder = LabelEncoder()\n",
        "encoder.fit(df_downsampled[\"star_rating\"])\n",
        "encoded_Y = encoder.transform(df_downsampled[\"star_rating\"])\n",
        "\n",
        "dummy_y = np_utils.to_categorical(encoded_Y)\n",
        "dummy_y"
      ],
      "execution_count": 0,
      "outputs": [
        {
          "output_type": "execute_result",
          "data": {
            "text/plain": [
              "array([[0., 0., 0., 0., 1.],\n",
              "       [0., 0., 0., 0., 1.],\n",
              "       [0., 0., 0., 0., 1.],\n",
              "       ...,\n",
              "       [1., 0., 0., 0., 0.],\n",
              "       [1., 0., 0., 0., 0.],\n",
              "       [1., 0., 0., 0., 0.]], dtype=float32)"
            ]
          },
          "metadata": {
            "tags": []
          },
          "execution_count": 315
        }
      ]
    },
    {
      "cell_type": "markdown",
      "metadata": {
        "id": "GlwZhzciorh8",
        "colab_type": "text"
      },
      "source": [
        "## 6. Splitting the Data"
      ]
    },
    {
      "cell_type": "code",
      "metadata": {
        "id": "qYeXXqR7orh9",
        "colab_type": "code",
        "colab": {}
      },
      "source": [
        "from sklearn.model_selection import train_test_split\n",
        "\n",
        "X = df_downsampled.loc[:,[\"product_title\", \"helpful_votes\", \"total_votes\", \"verified_purchase\", \"train_clean_reviews\"]]\n",
        "y = dummy_y.astype(int) \n",
        "\n",
        "X_train, X_test, y_train, y_test = train_test_split(X, y, test_size=0.33, random_state=42)"
      ],
      "execution_count": 0,
      "outputs": []
    },
    {
      "cell_type": "code",
      "metadata": {
        "id": "z4cK0vfnoriA",
        "colab_type": "code",
        "outputId": "16cf0d0b-4ff8-49a0-de9a-111db88f007f",
        "colab": {}
      },
      "source": [
        "print(X_train.shape)\n",
        "print(X_test.shape)\n",
        "print(y_train.shape)\n",
        "print(y_test.shape)"
      ],
      "execution_count": 0,
      "outputs": [
        {
          "output_type": "stream",
          "text": [
            "(182012, 5)\n",
            "(89648, 5)\n",
            "(182012, 5)\n",
            "(89648, 5)\n"
          ],
          "name": "stdout"
        }
      ]
    },
    {
      "cell_type": "markdown",
      "metadata": {
        "id": "VQ4XZ0U7oriC",
        "colab_type": "text"
      },
      "source": [
        "We converted the reviews, which are a sequence of words to a numeric representation."
      ]
    },
    {
      "cell_type": "code",
      "metadata": {
        "id": "qHny3ghloriD",
        "colab_type": "code",
        "outputId": "d0ee5c57-3f3e-445f-fca1-02f1c4dac03e",
        "colab": {}
      },
      "source": [
        "from keras.preprocessing.text import Tokenizer\n",
        "\n",
        "tokenizer_obj=Tokenizer()\n",
        "tokenizer_obj.fit_on_texts(list(df_downsampled[\"train_clean_reviews\"]))\n",
        "seq=tokenizer_obj.texts_to_sequences(list(df_downsampled[\"train_clean_reviews\"]))\n",
        "seq[1]"
      ],
      "execution_count": 0,
      "outputs": [
        {
          "output_type": "execute_result",
          "data": {
            "text/plain": [
              "[36349,\n",
              " 1,\n",
              " 7321,\n",
              " 80,\n",
              " 278,\n",
              " 1112,\n",
              " 32115,\n",
              " 381,\n",
              " 262,\n",
              " 36349,\n",
              " 1,\n",
              " 7321,\n",
              " 80,\n",
              " 278,\n",
              " 1112,\n",
              " 32115,\n",
              " 381,\n",
              " 262,\n",
              " 36349,\n",
              " 1,\n",
              " 1852,\n",
              " 6185,\n",
              " 510,\n",
              " 359,\n",
              " 8946,\n",
              " 1017,\n",
              " 51,\n",
              " 1,\n",
              " 1,\n",
              " 1,\n",
              " 1112,\n",
              " 715,\n",
              " 706,\n",
              " 15,\n",
              " 29,\n",
              " 61,\n",
              " 2557,\n",
              " 385,\n",
              " 1157,\n",
              " 2423,\n",
              " 3778,\n",
              " 715,\n",
              " 775,\n",
              " 845,\n",
              " 109,\n",
              " 10166,\n",
              " 15911,\n",
              " 4806,\n",
              " 122,\n",
              " 21,\n",
              " 1794,\n",
              " 216,\n",
              " 715,\n",
              " 929,\n",
              " 399,\n",
              " 3442,\n",
              " 1570,\n",
              " 8689,\n",
              " 3128,\n",
              " 1562,\n",
              " 36349,\n",
              " 126,\n",
              " 1078,\n",
              " 779,\n",
              " 33990,\n",
              " 1118,\n",
              " 32115,\n",
              " 2605,\n",
              " 8863,\n",
              " 595,\n",
              " 405,\n",
              " 6009,\n",
              " 2557,\n",
              " 4579,\n",
              " 1264,\n",
              " 2330,\n",
              " 1012,\n",
              " 1517,\n",
              " 174,\n",
              " 595,\n",
              " 6185,\n",
              " 405,\n",
              " 750,\n",
              " 345,\n",
              " 361,\n",
              " 2114,\n",
              " 706,\n",
              " 467,\n",
              " 539,\n",
              " 591,\n",
              " 2,\n",
              " 65,\n",
              " 17,\n",
              " 57,\n",
              " 595,\n",
              " 405,\n",
              " 948,\n",
              " 1,\n",
              " 1600,\n",
              " 26341,\n",
              " 1,\n",
              " 1,\n",
              " 725,\n",
              " 4737,\n",
              " 1,\n",
              " 1,\n",
              " 3422,\n",
              " 1,\n",
              " 13095,\n",
              " 1,\n",
              " 1922,\n",
              " 1,\n",
              " 706,\n",
              " 1,\n",
              " 2503,\n",
              " 1,\n",
              " 1054,\n",
              " 2503,\n",
              " 1,\n",
              " 7,\n",
              " 1,\n",
              " 262,\n",
              " 706,\n",
              " 259,\n",
              " 125,\n",
              " 772,\n",
              " 1118,\n",
              " 151,\n",
              " 10274,\n",
              " 1887,\n",
              " 4,\n",
              " 13,\n",
              " 1012,\n",
              " 405,\n",
              " 43,\n",
              " 1485,\n",
              " 1454,\n",
              " 80148,\n",
              " 1019,\n",
              " 856,\n",
              " 461,\n",
              " 556,\n",
              " 481,\n",
              " 381,\n",
              " 262,\n",
              " 3,\n",
              " 34,\n",
              " 29,\n",
              " 157,\n",
              " 10,\n",
              " 1475,\n",
              " 238,\n",
              " 2,\n",
              " 15004,\n",
              " 9172,\n",
              " 1,\n",
              " 1,\n",
              " 1,\n",
              " 1,\n",
              " 1,\n",
              " 1,\n",
              " 1]"
            ]
          },
          "metadata": {
            "tags": []
          },
          "execution_count": 318
        }
      ]
    },
    {
      "cell_type": "code",
      "metadata": {
        "id": "ABNyB5_IoriE",
        "colab_type": "code",
        "outputId": "08cf8b71-0aa9-41a2-c04a-e2cdd9a8fb7c",
        "colab": {}
      },
      "source": [
        "longestsentence=max([len(s) for s in seq])\n",
        "print(longestsentence)"
      ],
      "execution_count": 0,
      "outputs": [
        {
          "output_type": "stream",
          "text": [
            "4302\n"
          ],
          "name": "stdout"
        }
      ]
    },
    {
      "cell_type": "markdown",
      "metadata": {
        "id": "uRxF-1RLoriG",
        "colab_type": "text"
      },
      "source": [
        "Some of our reviews are too long. We decided to cut our long reviews to 1500 words and pad our short reviews to 1500 to have a equal review length."
      ]
    },
    {
      "cell_type": "code",
      "metadata": {
        "id": "b2BlbeBroriI",
        "colab_type": "code",
        "colab": {}
      },
      "source": [
        "longestsentence = 1500"
      ],
      "execution_count": 0,
      "outputs": []
    },
    {
      "cell_type": "code",
      "metadata": {
        "id": "19mZGGNCoriK",
        "colab_type": "code",
        "colab": {}
      },
      "source": [
        "from keras.preprocessing.sequence import pad_sequences\n",
        "padded=pad_sequences(seq,longestsentence)"
      ],
      "execution_count": 0,
      "outputs": []
    },
    {
      "cell_type": "code",
      "metadata": {
        "id": "XvB-S8x0oriN",
        "colab_type": "code",
        "outputId": "87b8c4a4-0ae9-4e03-ccfd-a9f25e9cca40",
        "colab": {}
      },
      "source": [
        "print('shape of review tensor: ', padded.shape)\n",
        "print('shape of sentiment tensor: ', y.shape)"
      ],
      "execution_count": 0,
      "outputs": [
        {
          "output_type": "stream",
          "text": [
            "shape of review tensor:  (271660, 1500)\n",
            "shape of sentiment tensor:  (271660, 5)\n"
          ],
          "name": "stdout"
        }
      ]
    },
    {
      "cell_type": "code",
      "metadata": {
        "id": "0dGKRld6oriP",
        "colab_type": "code",
        "colab": {}
      },
      "source": [
        "X_train_pad = padded[X_train.index]\n",
        "X_test_pad = padded[X_test.index]"
      ],
      "execution_count": 0,
      "outputs": []
    },
    {
      "cell_type": "code",
      "metadata": {
        "id": "Da3EqMXioriR",
        "colab_type": "code",
        "outputId": "49257757-4183-47c6-bc10-74eb0f4f461b",
        "colab": {}
      },
      "source": [
        "print('shape of X_train_pad: ', X_train_pad.shape)\n",
        "print('shape of X_test_pad: ', X_test_pad.shape)\n",
        "print('shape of y_train: ', y_train.shape)\n",
        "print('shape of y_test: ', y_test.shape)"
      ],
      "execution_count": 0,
      "outputs": [
        {
          "output_type": "stream",
          "text": [
            "shape of X_train_pad:  (182012, 1500)\n",
            "shape of X_test_pad:  (89648, 1500)\n",
            "shape of y_train:  (182012, 5)\n",
            "shape of y_test:  (89648, 5)\n"
          ],
          "name": "stdout"
        }
      ]
    },
    {
      "cell_type": "code",
      "metadata": {
        "id": "kzSKMMwYoriW",
        "colab_type": "code",
        "colab": {}
      },
      "source": [
        "embeddings_index={}\n",
        "with open(\"embedding_word2vec.txt\") as loaded_embs:\n",
        "    for line in loaded_embs:\n",
        "        values=line.split()\n",
        "        word=values[0]\n",
        "        coefs=np.asarray(values[1:])\n",
        "        embeddings_index[word]=coefs"
      ],
      "execution_count": 0,
      "outputs": []
    },
    {
      "cell_type": "code",
      "metadata": {
        "id": "qok6QY6LoriZ",
        "colab_type": "code",
        "outputId": "92a60af0-6f39-4020-cd55-413869e53c8a",
        "colab": {}
      },
      "source": [
        "word_index=tokenizer_obj.word_index\n",
        "# here is the size of vocab/number of unique tokens\n",
        "len(word_index)"
      ],
      "execution_count": 0,
      "outputs": [
        {
          "output_type": "execute_result",
          "data": {
            "text/plain": [
              "173412"
            ]
          },
          "metadata": {
            "tags": []
          },
          "execution_count": 342
        }
      ]
    },
    {
      "cell_type": "code",
      "metadata": {
        "id": "YLBj-U6Morib",
        "colab_type": "code",
        "colab": {}
      },
      "source": [
        "num_words = len(word_index) + 1\n",
        "embedding_matrix = np.zeros((num_words, EMBEDDING_DIM))"
      ],
      "execution_count": 0,
      "outputs": []
    },
    {
      "cell_type": "code",
      "metadata": {
        "id": "TPo0JHqnorie",
        "colab_type": "code",
        "outputId": "684217a5-ba0b-4f1a-b299-47538b152a45",
        "colab": {}
      },
      "source": [
        "for word, i in word_index.items():\n",
        "    if i > num_words:\n",
        "        continue\n",
        "    embedding_vector = embeddings_index.get(word)\n",
        "    if embedding_vector is not None:\n",
        "        #words not found in the embedding index will be all zeros\n",
        "        embedding_matrix[i] = embedding_vector\n",
        "\n",
        "print(embedding_matrix.shape)\n",
        "print(num_words)"
      ],
      "execution_count": 0,
      "outputs": [
        {
          "output_type": "stream",
          "text": [
            "(173413, 100)\n",
            "173413\n"
          ],
          "name": "stdout"
        }
      ]
    },
    {
      "cell_type": "markdown",
      "metadata": {
        "id": "4WjkMizrorig",
        "colab_type": "text"
      },
      "source": [
        "## 7. Dealing with constant features "
      ]
    },
    {
      "cell_type": "markdown",
      "metadata": {
        "id": "d6-FpU4GvMmM",
        "colab_type": "text"
      },
      "source": [
        "We organized our constant (non-text-sequence) features separately, then combined them later."
      ]
    },
    {
      "cell_type": "code",
      "metadata": {
        "id": "zUEVWZO7orig",
        "colab_type": "code",
        "colab": {}
      },
      "source": [
        "from sklearn.preprocessing import LabelBinarizer\n",
        "from sklearn.preprocessing import MinMaxScaler\n",
        "def process_constant_attributes(df, train, test):\n",
        "    # initialize the column names of the continuous data\n",
        "    continuous = [\"helpful_votes\", \"total_votes\"]\n",
        " \n",
        "    # performin min-max scaling each continuous feature column to\n",
        "    # the range [0, 1]\n",
        "    cs = MinMaxScaler()\n",
        "    trainContinuous = cs.fit_transform(train[continuous])\n",
        "    testContinuous = cs.transform(test[continuous])\n",
        " \n",
        "    # one-hot encode the categorical data (by definition of\n",
        "    # one-hot encoding, all output features are now in the range [0, 1])\n",
        "    zipBinarizer = LabelBinarizer().fit(df[\"verified_purchase\"])\n",
        "    trainCategorical = zipBinarizer.transform(train[\"verified_purchase\"])\n",
        "    testCategorical = zipBinarizer.transform(test[\"verified_purchase\"])\n",
        " \n",
        "    # construct our training and testing data points by concatenating\n",
        "    # the categorical features with the continuous features\n",
        "    trainX = np.hstack([trainCategorical, trainContinuous])\n",
        "    testX = np.hstack([testCategorical, testContinuous])\n",
        " \n",
        "    # return the concatenated training and testing data\n",
        "    return (trainX, testX)"
      ],
      "execution_count": 0,
      "outputs": []
    },
    {
      "cell_type": "code",
      "metadata": {
        "id": "6Yt6btEOorih",
        "colab_type": "code",
        "outputId": "229b98a3-16b6-45c0-80b0-456f7d8575d9",
        "colab": {}
      },
      "source": [
        "(trainAttrX, testAttrX) = process_constant_attributes(df_downsampled, X_train, X_test)"
      ],
      "execution_count": 0,
      "outputs": [
        {
          "output_type": "stream",
          "text": [
            "C:\\Users\\raibe\\Anaconda3\\lib\\site-packages\\sklearn\\preprocessing\\data.py:334: DataConversionWarning: Data with input dtype int64 were all converted to float64 by MinMaxScaler.\n",
            "  return self.partial_fit(X, y)\n"
          ],
          "name": "stderr"
        }
      ]
    },
    {
      "cell_type": "code",
      "metadata": {
        "id": "kN64RI2Oorik",
        "colab_type": "code",
        "outputId": "e8e9718c-231b-44e7-9ca0-32123c6b5156",
        "colab": {}
      },
      "source": [
        "trainAttrX.shape"
      ],
      "execution_count": 0,
      "outputs": [
        {
          "output_type": "execute_result",
          "data": {
            "text/plain": [
              "(182012, 3)"
            ]
          },
          "metadata": {
            "tags": []
          },
          "execution_count": 347
        }
      ]
    },
    {
      "cell_type": "code",
      "metadata": {
        "id": "O50251cVorir",
        "colab_type": "code",
        "outputId": "0be2ae34-2285-423b-9008-204429251e43",
        "colab": {}
      },
      "source": [
        "testAttrX.shape"
      ],
      "execution_count": 0,
      "outputs": [
        {
          "output_type": "execute_result",
          "data": {
            "text/plain": [
              "(89648, 3)"
            ]
          },
          "metadata": {
            "tags": []
          },
          "execution_count": 348
        }
      ]
    },
    {
      "cell_type": "markdown",
      "metadata": {
        "id": "-_9WeCmDx3xE",
        "colab_type": "text"
      },
      "source": [
        "## 8. Modeling"
      ]
    },
    {
      "cell_type": "markdown",
      "metadata": {
        "id": "PHgyJ75Z2S2P",
        "colab_type": "text"
      },
      "source": [
        "## 8.1. LSTM + Word2Vec (trained)"
      ]
    },
    {
      "cell_type": "markdown",
      "metadata": {
        "id": "Kuyt3TOzvtF4",
        "colab_type": "text"
      },
      "source": [
        "This is the resulting architecture we came up with. The text goes through an LSTM layer, then meets with other (constant) features."
      ]
    },
    {
      "cell_type": "code",
      "metadata": {
        "id": "1iZXyb6Uoris",
        "colab_type": "code",
        "colab": {}
      },
      "source": [
        "import keras\n",
        "from keras.layers import Input, Embedding, LSTM, Dense, GRU \n",
        "from keras.models import Sequential, Model\n",
        "from keras.initializers import Constant\n",
        "\n",
        "\n",
        "# Headline input: meant to receive sequences of 100 integers, between 1 and 10000.\n",
        "# Note that we can name any layer by passing it a \"name\" argument.\n",
        "main_input = Input(shape=(longestsentence,), dtype='int32', name='main_input')\n",
        "\n",
        "# This embedding layer will encode the input sequence\n",
        "# into a sequence of dense 512-dimensional vectors.\n",
        "x = Embedding(num_words,EMBEDDING_DIM, embeddings_initializer=Constant(embedding_matrix), input_length=longestsentence, trainable=False)(main_input)\n",
        "\n",
        "# A LSTM will transform the vector sequence into a single vector,\n",
        "# containing information about the entire sequence\n",
        "lstm_out = LSTM(32)(x)\n",
        "\n",
        "auxiliary_output = Dense(5, activation='softmax', name='aux_output')(lstm_out)\n",
        "\n",
        "auxiliary_input = Input(shape=(3,), name='aux_input')\n",
        "x = keras.layers.concatenate([lstm_out, auxiliary_input])\n",
        "\n",
        "# We stack a deep densely-connected network on top\n",
        "x = Dense(64, activation='relu')(x)\n",
        "x = Dense(64, activation='relu')(x)\n",
        "x = Dense(64, activation='relu')(x)\n",
        "\n",
        "# And finally we add the main logistic regression layer\n",
        "main_output = Dense(5, activation='softmax', name='main_output')(x)\n",
        "\n",
        "model = Model(inputs=[main_input, auxiliary_input], outputs= main_output)\n",
        "\n",
        "\n",
        "model.compile(loss= 'categorical_crossentropy', optimizer = 'adam', metrics = ['accuracy'])"
      ],
      "execution_count": 0,
      "outputs": []
    },
    {
      "cell_type": "code",
      "metadata": {
        "id": "rFncAv7xoriu",
        "colab_type": "code",
        "outputId": "837d8f60-02a8-4dea-bbf8-0ec3f6c7aea6",
        "colab": {}
      },
      "source": [
        "model.summary()"
      ],
      "execution_count": 0,
      "outputs": [
        {
          "output_type": "stream",
          "text": [
            "__________________________________________________________________________________________________\n",
            "Layer (type)                    Output Shape         Param #     Connected to                     \n",
            "==================================================================================================\n",
            "main_input (InputLayer)         (None, 1500)         0                                            \n",
            "__________________________________________________________________________________________________\n",
            "embedding_3 (Embedding)         (None, 1500, 100)    17341300    main_input[0][0]                 \n",
            "__________________________________________________________________________________________________\n",
            "lstm_3 (LSTM)                   (None, 32)           17024       embedding_3[0][0]                \n",
            "__________________________________________________________________________________________________\n",
            "aux_input (InputLayer)          (None, 3)            0                                            \n",
            "__________________________________________________________________________________________________\n",
            "concatenate_3 (Concatenate)     (None, 35)           0           lstm_3[0][0]                     \n",
            "                                                                 aux_input[0][0]                  \n",
            "__________________________________________________________________________________________________\n",
            "dense_7 (Dense)                 (None, 64)           2304        concatenate_3[0][0]              \n",
            "__________________________________________________________________________________________________\n",
            "dense_8 (Dense)                 (None, 64)           4160        dense_7[0][0]                    \n",
            "__________________________________________________________________________________________________\n",
            "dense_9 (Dense)                 (None, 64)           4160        dense_8[0][0]                    \n",
            "__________________________________________________________________________________________________\n",
            "main_output (Dense)             (None, 5)            325         dense_9[0][0]                    \n",
            "==================================================================================================\n",
            "Total params: 17,369,273\n",
            "Trainable params: 27,973\n",
            "Non-trainable params: 17,341,300\n",
            "__________________________________________________________________________________________________\n"
          ],
          "name": "stdout"
        }
      ]
    },
    {
      "cell_type": "code",
      "metadata": {
        "id": "3iI3HDDuoriv",
        "colab_type": "code",
        "outputId": "3357ae19-c77c-4c5b-d9e2-fbd625f8ef63",
        "colab": {}
      },
      "source": [
        "model1 = model.fit([X_train_pad, trainAttrX], y_train, epochs=10, batch_size=128, validation_data=([X_test_pad, testAttrX], y_test), verbose=2)"
      ],
      "execution_count": 0,
      "outputs": [
        {
          "output_type": "stream",
          "text": [
            "Train on 182012 samples, validate on 89648 samples\n",
            "Epoch 1/10\n",
            " - 1755s - loss: 1.3162 - acc: 0.4143 - val_loss: 1.1692 - val_acc: 0.4862\n",
            "Epoch 2/10\n",
            " - 2070s - loss: 1.1344 - acc: 0.5038 - val_loss: 1.1117 - val_acc: 0.5122\n",
            "Epoch 3/10\n",
            " - 1868s - loss: 1.0923 - acc: 0.5222 - val_loss: 1.0835 - val_acc: 0.5269\n",
            "Epoch 4/10\n",
            " - 2119s - loss: 1.0694 - acc: 0.5330 - val_loss: 1.0721 - val_acc: 0.5320\n",
            "Epoch 5/10\n",
            " - 2031s - loss: 1.0584 - acc: 0.5375 - val_loss: 1.4868 - val_acc: 0.3168\n",
            "Epoch 6/10\n",
            " - 2376s - loss: 1.1102 - acc: 0.5120 - val_loss: 1.0927 - val_acc: 0.5211\n",
            "Epoch 7/10\n",
            " - 2313s - loss: 1.0715 - acc: 0.5302 - val_loss: 1.0943 - val_acc: 0.5231\n",
            "Epoch 8/10\n",
            " - 1999s - loss: 1.0684 - acc: 0.5322 - val_loss: 1.0744 - val_acc: 0.5291\n",
            "Epoch 9/10\n",
            " - 1671s - loss: 1.0592 - acc: 0.5369 - val_loss: 1.0632 - val_acc: 0.5350\n",
            "Epoch 10/10\n",
            " - 1677s - loss: 1.0713 - acc: 0.5331 - val_loss: 1.0898 - val_acc: 0.5250\n"
          ],
          "name": "stdout"
        }
      ]
    },
    {
      "cell_type": "code",
      "metadata": {
        "id": "2YYqoz6xorix",
        "colab_type": "code",
        "outputId": "6a6e6075-cc57-41c4-fa89-3d65ada2ee10",
        "colab": {}
      },
      "source": [
        "plt.plot(model1.history['acc'])\n",
        "plt.plot(model1.history['val_acc'])\n",
        "plt.title('model accuracy')\n",
        "plt.ylabel('accuracy')\n",
        "plt.xlabel('epoch')\n",
        "plt.legend(['train', 'validation'], loc='upper left')\n",
        "plt.show()"
      ],
      "execution_count": 0,
      "outputs": [
        {
          "output_type": "display_data",
          "data": {
            "image/png": "[encoded data removed]",
            "text/plain": [
              "<Figure size 432x288 with 1 Axes>"
            ]
          },
          "metadata": {
            "tags": [],
            "needs_background": "light"
          }
        }
      ]
    },
    {
      "cell_type": "code",
      "metadata": {
        "id": "z9v6oW2Joriz",
        "colab_type": "code",
        "outputId": "d18e1b97-c6be-4034-b7de-5e221a8816ac",
        "colab": {}
      },
      "source": [
        "score_emb = model.evaluate([X_test_pad, testAttrX], y_test, verbose=0)\n",
        "print('Test loss:', score_emb[0])\n",
        "print('Test accuracy:', score_emb[1])"
      ],
      "execution_count": 0,
      "outputs": [
        {
          "output_type": "stream",
          "text": [
            "Test loss: 1.0898305801819335\n",
            "Test accuracy: 0.5249754595752275\n"
          ],
          "name": "stdout"
        }
      ]
    },
    {
      "cell_type": "markdown",
      "metadata": {
        "colab_type": "text",
        "id": "KUKmqfVHw-Di"
      },
      "source": [
        "### 8.2. LSTM + Embeddings\n",
        "We tried the same model as above, but we allow this time for our embeddings to be tranied with the model and adjusted "
      ]
    },
    {
      "cell_type": "code",
      "metadata": {
        "colab_type": "code",
        "id": "0fQ6CdZHw7Zu",
        "colab": {}
      },
      "source": [
        "main_input = Input(shape=(longestsentence,), dtype='int32', name='main_input')\n",
        "\n",
        "x = Embedding(num_words,EMBEDDING_DIM, embeddings_initializer=Constant(embedding_matrix), input_length=longestsentence, trainable=True)(main_input)\n",
        "\n",
        "lstm_out = LSTM(32)(x)\n",
        "\n",
        "auxiliary_output = Dense(5, activation='softmax', name='aux_output')(lstm_out)\n",
        "\n",
        "auxiliary_input = Input(shape=(3,), name='aux_input')\n",
        "x = keras.layers.concatenate([lstm_out, auxiliary_input])\n",
        "\n",
        "x = Dense(64, activation='relu')(x)\n",
        "x = Dense(64, activation='relu')(x)\n",
        "\n",
        "main_output = Dense(5, activation='softmax', name='main_output')(x)\n",
        "\n",
        "model_trainable = Model(inputs=[main_input, auxiliary_input], outputs= main_output)\n",
        "\n",
        "model_trainable.compile(loss= 'categorical_crossentropy', optimizer = 'adam', metrics = ['accuracy'])"
      ],
      "execution_count": 0,
      "outputs": []
    },
    {
      "cell_type": "code",
      "metadata": {
        "colab_type": "code",
        "outputId": "b56bc2fe-2b5d-42ca-845c-15f9b13f807f",
        "id": "eesJQaabw7IL",
        "colab": {}
      },
      "source": [
        ""
      ],
      "execution_count": 0,
      "outputs": [
        {
          "output_type": "stream",
          "text": [
            "Train on 182012 samples, validate on 89648 samples\n",
            "Epoch 1/15\n",
            " - 2361s - loss: 1.3357 - acc: 0.4018 - val_loss: 1.1931 - val_acc: 0.4763\n",
            "Epoch 2/15\n",
            " - 1953s - loss: 1.1737 - acc: 0.4854 - val_loss: 1.3094 - val_acc: 0.4192\n",
            "Epoch 3/15\n",
            " - 1962s - loss: 1.1586 - acc: 0.4931 - val_loss: 1.1183 - val_acc: 0.5113\n",
            "Epoch 4/15\n",
            " - 1957s - loss: 1.1018 - acc: 0.5198 - val_loss: 1.1071 - val_acc: 0.5167\n",
            "Epoch 5/15\n",
            " - 1966s - loss: 1.0816 - acc: 0.5290 - val_loss: 1.0986 - val_acc: 0.5225\n",
            "Epoch 6/15\n",
            " - 1968s - loss: 1.0604 - acc: 0.5384 - val_loss: 1.0899 - val_acc: 0.5237\n",
            "Epoch 7/15\n",
            " - 1983s - loss: 1.0454 - acc: 0.5460 - val_loss: 1.0896 - val_acc: 0.5272\n",
            "Epoch 8/15\n",
            " - 2024s - loss: 1.0331 - acc: 0.5514 - val_loss: 1.0822 - val_acc: 0.5309\n",
            "Epoch 9/15\n",
            " - 2047s - loss: 1.0210 - acc: 0.5569 - val_loss: 1.0784 - val_acc: 0.5336\n",
            "Epoch 10/15\n",
            " - 2079s - loss: 1.0093 - acc: 0.5623 - val_loss: 1.0778 - val_acc: 0.5348\n",
            "Epoch 11/15\n",
            " - 2158s - loss: 0.9991 - acc: 0.5679 - val_loss: 1.0769 - val_acc: 0.5337\n",
            "Epoch 12/15\n",
            " - 2134s - loss: 0.9863 - acc: 0.5737 - val_loss: 1.0796 - val_acc: 0.5348\n",
            "Epoch 13/15\n",
            " - 2252s - loss: 0.9727 - acc: 0.5797 - val_loss: 1.0726 - val_acc: 0.5342\n",
            "Epoch 14/15\n",
            " - 2370s - loss: 0.9606 - acc: 0.5864 - val_loss: 1.0793 - val_acc: 0.5320\n",
            "Epoch 15/15\n",
            " - 2506s - loss: 0.9485 - acc: 0.5922 - val_loss: 1.0871 - val_acc: 0.5331\n"
          ],
          "name": "stdout"
        }
      ]
    },
    {
      "cell_type": "code",
      "metadata": {
        "colab_type": "code",
        "outputId": "9706d66b-ce54-469b-ae15-380477b69f96",
        "id": "wOluPSkKw6_E",
        "colab": {}
      },
      "source": [
        "plt.plot(model2.history['val_acc'])\n",
        "plt.title('model accuracy')\n",
        "plt.ylabel('accuracy')\n",
        "plt.xlabel('epoch')\n",
        "plt.legend(['train', 'validation'], loc='upper left')\n",
        "plt.show()"
      ],
      "execution_count": 0,
      "outputs": [
        {
          "output_type": "display_data",
          "data": {
            "image/png": "[encoded data removed]",
            "text/plain": [
              "<Figure size 432x288 with 1 Axes>"
            ]
          },
          "metadata": {
            "tags": [],
            "needs_background": "light"
          }
        }
      ]
    },
    {
      "cell_type": "code",
      "metadata": {
        "colab_type": "code",
        "id": "QXq06RXNw61a",
        "colab": {}
      },
      "source": [
        "score_emp2 = model_trainable.evaluate([X_test_pad, testAttrX], y_test, verbose=0)\n",
        "print('Test accuracy:', score_emp2[1])"
      ],
      "execution_count": 0,
      "outputs": []
    },
    {
      "cell_type": "markdown",
      "metadata": {
        "colab_type": "text",
        "id": "8tnlaAgsw6o7"
      },
      "source": [
        "\n",
        "### 8.3. GRU (only Text)\n",
        "We build a GRU model with only the text data and see what kind of results we get"
      ]
    },
    {
      "cell_type": "code",
      "metadata": {
        "id": "Eh1X_S1-ori-",
        "colab_type": "code",
        "outputId": "68ba0f7e-e2d1-4712-bb2c-781a7d94f1d4",
        "colab": {}
      },
      "source": [
        "model3=Sequential()\n",
        "embedding_layer=Embedding(num_words, #size of vocab\n",
        "                         EMBEDDING_DIM, #size of embedding \n",
        "                         embeddings_initializer=Constant(embedding_matrix),\n",
        "                         input_length=longestsentence, \n",
        "                         trainable=True  \n",
        "                         )\n",
        "model3.add(embedding_layer)\n",
        "model3.add(GRU(16))\n",
        "model3.add(Dense(5, activation=\"softmax\"))\n",
        "model3.compile(loss=\"categorical_crossentropy\", optimizer=\"adam\", metrics=[\"accuracy\"])\n",
        "model3.summary()"
      ],
      "execution_count": 0,
      "outputs": [
        {
          "output_type": "stream",
          "text": [
            "_________________________________________________________________\n",
            "Layer (type)                 Output Shape              Param #   \n",
            "=================================================================\n",
            "embedding_8 (Embedding)      (None, 1500, 100)         17341300  \n",
            "_________________________________________________________________\n",
            "gru_1 (GRU)                  (None, 16)                5616      \n",
            "_________________________________________________________________\n",
            "dense_16 (Dense)             (None, 5)                 85        \n",
            "=================================================================\n",
            "Total params: 17,347,001\n",
            "Trainable params: 17,347,001\n",
            "Non-trainable params: 0\n",
            "_________________________________________________________________\n"
          ],
          "name": "stdout"
        }
      ]
    },
    {
      "cell_type": "code",
      "metadata": {
        "id": "qCwYDq8morjB",
        "colab_type": "code",
        "outputId": "63f331b4-3e63-4be1-8548-74762451e081",
        "colab": {}
      },
      "source": [
        "h3 = model3.fit(X_train_pad, y_train, epochs=15, batch_size=1000, validation_data=(X_test_pad, y_test), verbose=2)"
      ],
      "execution_count": 0,
      "outputs": [
        {
          "output_type": "stream",
          "text": [
            "Train on 182012 samples, validate on 89648 samples\n",
            "Epoch 1/15\n",
            " - 712s - loss: 1.6004 - acc: 0.2882 - val_loss: 1.5323 - val_acc: 0.3118\n",
            "Epoch 2/15\n",
            " - 761s - loss: 1.4851 - acc: 0.3364 - val_loss: 1.4541 - val_acc: 0.3454\n",
            "Epoch 3/15\n",
            " - 800s - loss: 1.4165 - acc: 0.3685 - val_loss: 1.3939 - val_acc: 0.3742\n",
            "Epoch 4/15\n",
            " - 753s - loss: 1.3462 - acc: 0.3995 - val_loss: 1.3014 - val_acc: 0.4170\n",
            "Epoch 5/15\n",
            " - 841s - loss: 1.2475 - acc: 0.4407 - val_loss: 1.2197 - val_acc: 0.4524\n",
            "Epoch 6/15\n",
            " - 832s - loss: 1.1772 - acc: 0.4742 - val_loss: 1.1710 - val_acc: 0.4781\n",
            "Epoch 7/15\n",
            " - 858s - loss: 1.1334 - acc: 0.4982 - val_loss: 1.1448 - val_acc: 0.4934\n",
            "Epoch 8/15\n",
            " - 680s - loss: 1.1076 - acc: 0.5120 - val_loss: 1.1355 - val_acc: 0.5000\n",
            "Epoch 9/15\n",
            " - 732s - loss: 1.0801 - acc: 0.5258 - val_loss: 1.1055 - val_acc: 0.5149\n",
            "Epoch 10/15\n",
            " - 746s - loss: 1.0562 - acc: 0.5371 - val_loss: 1.1039 - val_acc: 0.5176\n",
            "Epoch 11/15\n",
            " - 657s - loss: 1.0416 - acc: 0.5446 - val_loss: 1.0881 - val_acc: 0.5251\n",
            "Epoch 12/15\n",
            " - 664s - loss: 1.0231 - acc: 0.5539 - val_loss: 1.0888 - val_acc: 0.5263\n",
            "Epoch 13/15\n",
            " - 695s - loss: 1.0102 - acc: 0.5601 - val_loss: 1.0995 - val_acc: 0.5229\n",
            "Epoch 14/15\n",
            " - 743s - loss: 0.9976 - acc: 0.5657 - val_loss: 1.0894 - val_acc: 0.5246\n",
            "Epoch 15/15\n",
            " - 710s - loss: 0.9962 - acc: 0.5664 - val_loss: 1.0881 - val_acc: 0.5275\n"
          ],
          "name": "stdout"
        }
      ]
    },
    {
      "cell_type": "code",
      "metadata": {
        "id": "XvfpZxl6orjD",
        "colab_type": "code",
        "outputId": "e6d6c996-b90b-4fd5-a792-a9a1b2f091bb",
        "colab": {}
      },
      "source": [
        "plt.plot(h3.history['acc'])\n",
        "plt.plot(h3.history['val_acc'])\n",
        "plt.title('model accuracy')\n",
        "plt.ylabel('accuracy')\n",
        "plt.xlabel('epoch')\n",
        "plt.legend(['train', 'validation'], loc='upper left')\n",
        "plt.show()"
      ],
      "execution_count": 0,
      "outputs": [
        {
          "output_type": "display_data",
          "data": {
            "image/png": "[encoded data removed]",
            "text/plain": [
              "<Figure size 432x288 with 1 Axes>"
            ]
          },
          "metadata": {
            "tags": [],
            "needs_background": "light"
          }
        }
      ]
    },
    {
      "cell_type": "code",
      "metadata": {
        "id": "Wth6xwYrorjF",
        "colab_type": "code",
        "outputId": "322c5f16-713e-455a-b86f-d18e5455779a",
        "colab": {}
      },
      "source": [
        "score_emp3 = model3.evaluate(X_test_pad, y_test, verbose=0)\n",
        "print('Test loss:', score_emp3[0])\n",
        "print('Test accuracy:', score_emp3[1])"
      ],
      "execution_count": 0,
      "outputs": [
        {
          "output_type": "stream",
          "text": [
            "Test loss: 1.0881033807104663\n",
            "Test accuracy: 0.5275298946992683\n"
          ],
          "name": "stdout"
        }
      ]
    },
    {
      "cell_type": "markdown",
      "metadata": {
        "id": "yXSzeRILxwpl",
        "colab_type": "text"
      },
      "source": [
        "## 9. Benchmarking"
      ]
    },
    {
      "cell_type": "markdown",
      "metadata": {
        "id": "mkHfU99AxYgA",
        "colab_type": "text"
      },
      "source": [
        "All the 3 models are close to each other, having accuracy around 0.53. \n",
        "\n",
        "\n",
        "We will now compare it with a Naive Bayes model to see if it is beating the simplest benchmark."
      ]
    },
    {
      "cell_type": "markdown",
      "metadata": {
        "id": "9ovcxWXZzscJ",
        "colab_type": "text"
      },
      "source": [
        "We use the previous embedding matrix to get the numbers manually, as we use them directly without wrapping inside Keras layers."
      ]
    },
    {
      "cell_type": "code",
      "metadata": {
        "id": "s5uEPWIiyoqr",
        "colab_type": "code",
        "outputId": "59db9b69-8880-4a45-a754-dad3c6e5776c",
        "colab": {
          "base_uri": "https://localhost:8080/",
          "height": 85
        }
      },
      "source": [
        "review_matrix = np.zeros((df_downsampled[\"train_clean_reviews\"].shape[0], \n",
        "                          EMBEDDING_DIM))\n",
        "\n",
        "for index,review in enumerate(list(df_downsampled[\"train_clean_reviews\"])):\n",
        "  word_vector = []\n",
        "  for word in review:\n",
        "    word_vector.append(embedding_matrix[word_index[word],:].astype('float32'))\n",
        "  if (np.isnan(np.array(word_vector).mean(axis=0))).any() == False:\n",
        "    review_matrix[index] = np.array(word_vector).mean(axis=0)"
      ],
      "execution_count": 0,
      "outputs": [
        {
          "output_type": "stream",
          "text": [
            "/usr/local/lib/python3.6/dist-packages/ipykernel_launcher.py:8: RuntimeWarning: Mean of empty slice.\n",
            "  \n",
            "/usr/local/lib/python3.6/dist-packages/numpy/core/_methods.py:85: RuntimeWarning: invalid value encountered in double_scalars\n",
            "  ret = ret.dtype.type(ret / rcount)\n"
          ],
          "name": "stderr"
        }
      ]
    },
    {
      "cell_type": "code",
      "metadata": {
        "id": "vvOjmkxXyBQj",
        "colab_type": "code",
        "colab": {}
      },
      "source": [
        "from sklearn.model_selection import train_test_split\n",
        "\n",
        "X = df.loc[:,[ 'helpful_votes',\n",
        "                          'total_votes', 'verified_purchase',\n",
        "                          'book_referred', 'capital_prop',\n",
        "                          'seq_length','train_clean_reviews' ]]\n",
        "\n",
        "X_train_nb, X_test_nb, y_train_nb, y_test_nb = train_test_split(review_matrix, \n",
        "                                                    encoded_Y,\n",
        "                                                    test_size=0.33, random_state=42)"
      ],
      "execution_count": 0,
      "outputs": []
    },
    {
      "cell_type": "code",
      "metadata": {
        "id": "c2s-AMSeywAl",
        "colab_type": "code",
        "colab": {}
      },
      "source": [
        "from sklearn.preprocessing import MinMaxScaler\n",
        "\n",
        "scaler_tr = MinMaxScaler().fit(X_train_nb)\n",
        "X_train_nb = scaler_tr.transform(X_train_nb)\n",
        "X_test_nb = scaler_tr.transform(X_test_nb)"
      ],
      "execution_count": 0,
      "outputs": []
    },
    {
      "cell_type": "code",
      "metadata": {
        "id": "i2fJhrk1ywME",
        "colab_type": "code",
        "outputId": "a251eeb8-1412-47a9-f179-6cd48fa3bcdb",
        "colab": {
          "base_uri": "https://localhost:8080/",
          "height": 34
        }
      },
      "source": [
        "from sklearn.naive_bayes import MultinomialNB\n",
        "nb = MultinomialNB()\n",
        "nb.fit(X_train_nb, y_train_nb.astype('str'))\n",
        "\n",
        "from sklearn.metrics import classification_report\n",
        "from sklearn.metrics import accuracy_score\n",
        "y_pred = nb.predict(X_test_nb) \n",
        "\n",
        "print('accuracy %s' % accuracy_score(y_pred, y_test_nb.astype('str')))\n"
      ],
      "execution_count": 0,
      "outputs": [
        {
          "output_type": "stream",
          "text": [
            "accuracy 0.35533419596644655\n"
          ],
          "name": "stdout"
        }
      ]
    },
    {
      "cell_type": "markdown",
      "metadata": {
        "id": "hqD-6B2u0FtY",
        "colab_type": "text"
      },
      "source": [
        "All of our 3 models beats the Naive Bayes benchmark, which has only 0.37 accuracy. Our best model hits around 0.53 accuracy, and we know that it requires a lot more epochs and more intensive tuning, i.e. using GridSearchCV or talos as we did in the last Mini Task. However, without a proper tuning, we can still beat the naive benchmark."
      ]
    },
    {
      "cell_type": "code",
      "metadata": {
        "id": "azwMBwuk0-w8",
        "colab_type": "code",
        "outputId": "7fb69d8b-01ef-4dc2-9ca0-66b966319639",
        "colab": {
          "base_uri": "https://localhost:8080/",
          "height": 173
        }
      },
      "source": [
        "import pandas as pd \n",
        "results = {'Accuracy':[0.524,0.531,0.527, 0.355]}   \n",
        "results = pd.DataFrame(results, index =['LSTM+Word2Vec', 'LSTM+Embedding', 'GRU(only text)', 'Naive Bayes']) \n",
        "results"
      ],
      "execution_count": 0,
      "outputs": [
        {
          "output_type": "execute_result",
          "data": {
            "text/html": [
              "<div>\n",
              "<style scoped>\n",
              "    .dataframe tbody tr th:only-of-type {\n",
              "        vertical-align: middle;\n",
              "    }\n",
              "\n",
              "    .dataframe tbody tr th {\n",
              "        vertical-align: top;\n",
              "    }\n",
              "\n",
              "    .dataframe thead th {\n",
              "        text-align: right;\n",
              "    }\n",
              "</style>\n",
              "<table border=\"1\" class=\"dataframe\">\n",
              "  <thead>\n",
              "    <tr style=\"text-align: right;\">\n",
              "      <th></th>\n",
              "      <th>Accuracy</th>\n",
              "    </tr>\n",
              "  </thead>\n",
              "  <tbody>\n",
              "    <tr>\n",
              "      <th>LSTM+Word2Vec</th>\n",
              "      <td>0.524</td>\n",
              "    </tr>\n",
              "    <tr>\n",
              "      <th>LSTM+Embedding</th>\n",
              "      <td>0.531</td>\n",
              "    </tr>\n",
              "    <tr>\n",
              "      <th>GRU(only text)</th>\n",
              "      <td>0.527</td>\n",
              "    </tr>\n",
              "    <tr>\n",
              "      <th>Naive Bayes</th>\n",
              "      <td>0.355</td>\n",
              "    </tr>\n",
              "  </tbody>\n",
              "</table>\n",
              "</div>"
            ],
            "text/plain": [
              "                Accuracy\n",
              "LSTM+Word2Vec      0.524\n",
              "LSTM+Embedding     0.531\n",
              "GRU(only text)     0.527\n",
              "Naive Bayes        0.355"
            ]
          },
          "metadata": {
            "tags": []
          },
          "execution_count": 23
        }
      ]
    },
    {
      "cell_type": "markdown",
      "metadata": {
        "id": "M6CScN2ZorjH",
        "colab_type": "text"
      },
      "source": [
        "# 10. Prediction "
      ]
    },
    {
      "cell_type": "markdown",
      "metadata": {
        "id": "xOAIKYbWorjH",
        "colab_type": "text"
      },
      "source": [
        "### We will use the second model (LSTM + Embeddings) to make the prediction because it has the best accuracy and it is built based on both text and constant features"
      ]
    },
    {
      "cell_type": "code",
      "metadata": {
        "id": "oJmKrW-eorjI",
        "colab_type": "code",
        "outputId": "d88ea8c9-9c52-4da2-c098-afb196c30701",
        "colab": {}
      },
      "source": [
        "df_test.head(5)"
      ],
      "execution_count": 0,
      "outputs": [
        {
          "output_type": "execute_result",
          "data": {
            "text/html": [
              "<div>\n",
              "<style scoped>\n",
              "    .dataframe tbody tr th:only-of-type {\n",
              "        vertical-align: middle;\n",
              "    }\n",
              "\n",
              "    .dataframe tbody tr th {\n",
              "        vertical-align: top;\n",
              "    }\n",
              "\n",
              "    .dataframe thead th {\n",
              "        text-align: right;\n",
              "    }\n",
              "</style>\n",
              "<table border=\"1\" class=\"dataframe\">\n",
              "  <thead>\n",
              "    <tr style=\"text-align: right;\">\n",
              "      <th></th>\n",
              "      <th>Unnamed: 0</th>\n",
              "      <th>product_id</th>\n",
              "      <th>product_title</th>\n",
              "      <th>helpful_votes</th>\n",
              "      <th>total_votes</th>\n",
              "      <th>verified_purchase</th>\n",
              "      <th>review_headline</th>\n",
              "      <th>review_body</th>\n",
              "      <th>full_text</th>\n",
              "    </tr>\n",
              "  </thead>\n",
              "  <tbody>\n",
              "    <tr>\n",
              "      <th>0</th>\n",
              "      <td>1</td>\n",
              "      <td>1445604752</td>\n",
              "      <td>Spitfire Ace of Aces: The Wartime Story of Joh...</td>\n",
              "      <td>2</td>\n",
              "      <td>2</td>\n",
              "      <td>N</td>\n",
              "      <td>Engaging Account of the Combat Career of an RA...</td>\n",
              "      <td>Back in 1964, I was introduced to 'Johnnie' Jo...</td>\n",
              "      <td>Engaging Account of the Combat Career of an RA...</td>\n",
              "    </tr>\n",
              "    <tr>\n",
              "      <th>1</th>\n",
              "      <td>2</td>\n",
              "      <td>080244864X</td>\n",
              "      <td>Hush: Moving From Silence to Healing After Chi...</td>\n",
              "      <td>1</td>\n",
              "      <td>1</td>\n",
              "      <td>N</td>\n",
              "      <td>Best Book Ever (Next to the Bible</td>\n",
              "      <td>This book has helped me through a lot this pas...</td>\n",
              "      <td>Best Book Ever (Next to the Bible. This book h...</td>\n",
              "    </tr>\n",
              "    <tr>\n",
              "      <th>2</th>\n",
              "      <td>3</td>\n",
              "      <td>0312536984</td>\n",
              "      <td>Eviction Notice: A Hood Rat Novel (Hood Rat No...</td>\n",
              "      <td>0</td>\n",
              "      <td>0</td>\n",
              "      <td>N</td>\n",
              "      <td>Wild and Crazy</td>\n",
              "      <td>A gripping read!  K'wan is on fire with this n...</td>\n",
              "      <td>Wild and Crazy. A gripping read!  K'wan is on ...</td>\n",
              "    </tr>\n",
              "    <tr>\n",
              "      <th>3</th>\n",
              "      <td>4</td>\n",
              "      <td>1609412427</td>\n",
              "      <td>Vegan Cooking for Carnivores: Over 125 Recipes...</td>\n",
              "      <td>87</td>\n",
              "      <td>90</td>\n",
              "      <td>Y</td>\n",
              "      <td>Cooking up a storm and loving it!</td>\n",
              "      <td>I love this book.  I've had it about four days...</td>\n",
              "      <td>Cooking up a storm and loving it!. I love this...</td>\n",
              "    </tr>\n",
              "    <tr>\n",
              "      <th>4</th>\n",
              "      <td>5</td>\n",
              "      <td>0876059515</td>\n",
              "      <td>The Complete Book of Foaling: An Illustrated G...</td>\n",
              "      <td>1</td>\n",
              "      <td>1</td>\n",
              "      <td>N</td>\n",
              "      <td>The best foaling book on the market</td>\n",
              "      <td>As both a long-time horse owner and fulltime w...</td>\n",
              "      <td>The best foaling book on the market. As both a...</td>\n",
              "    </tr>\n",
              "  </tbody>\n",
              "</table>\n",
              "</div>"
            ],
            "text/plain": [
              "   Unnamed: 0  product_id                                      product_title  \\\n",
              "0           1  1445604752  Spitfire Ace of Aces: The Wartime Story of Joh...   \n",
              "1           2  080244864X  Hush: Moving From Silence to Healing After Chi...   \n",
              "2           3  0312536984  Eviction Notice: A Hood Rat Novel (Hood Rat No...   \n",
              "3           4  1609412427  Vegan Cooking for Carnivores: Over 125 Recipes...   \n",
              "4           5  0876059515  The Complete Book of Foaling: An Illustrated G...   \n",
              "\n",
              "   helpful_votes  total_votes verified_purchase  \\\n",
              "0              2            2                 N   \n",
              "1              1            1                 N   \n",
              "2              0            0                 N   \n",
              "3             87           90                 Y   \n",
              "4              1            1                 N   \n",
              "\n",
              "                                     review_headline  \\\n",
              "0  Engaging Account of the Combat Career of an RA...   \n",
              "1                  Best Book Ever (Next to the Bible   \n",
              "2                                     Wild and Crazy   \n",
              "3                  Cooking up a storm and loving it!   \n",
              "4                The best foaling book on the market   \n",
              "\n",
              "                                         review_body  \\\n",
              "0  Back in 1964, I was introduced to 'Johnnie' Jo...   \n",
              "1  This book has helped me through a lot this pas...   \n",
              "2  A gripping read!  K'wan is on fire with this n...   \n",
              "3  I love this book.  I've had it about four days...   \n",
              "4  As both a long-time horse owner and fulltime w...   \n",
              "\n",
              "                                           full_text  \n",
              "0  Engaging Account of the Combat Career of an RA...  \n",
              "1  Best Book Ever (Next to the Bible. This book h...  \n",
              "2  Wild and Crazy. A gripping read!  K'wan is on ...  \n",
              "3  Cooking up a storm and loving it!. I love this...  \n",
              "4  The best foaling book on the market. As both a...  "
            ]
          },
          "metadata": {
            "tags": []
          },
          "execution_count": 391
        }
      ]
    },
    {
      "cell_type": "code",
      "metadata": {
        "id": "Hf-638XForjJ",
        "colab_type": "code",
        "outputId": "1af73958-abe7-44f6-d562-d4efb098f67a",
        "colab": {}
      },
      "source": [
        "continuous = [\"helpful_votes\", \"total_votes\"]\n",
        "\n",
        "cs = MinMaxScaler()\n",
        "df_test_Continuous = cs.fit_transform(df_test[continuous])\n",
        "\n",
        "zipBinarizer = LabelBinarizer().fit(df_test[\"verified_purchase\"])\n",
        "df_testCategorical = zipBinarizer.transform(df_test[\"verified_purchase\"])\n",
        "\n",
        "df_test_normalized = np.hstack([df_testCategorical, df_test_Continuous])\n"
      ],
      "execution_count": 0,
      "outputs": [
        {
          "output_type": "stream",
          "text": [
            "C:\\Users\\raibe\\Anaconda3\\lib\\site-packages\\sklearn\\preprocessing\\data.py:334: DataConversionWarning: Data with input dtype int64 were all converted to float64 by MinMaxScaler.\n",
            "  return self.partial_fit(X, y)\n"
          ],
          "name": "stderr"
        }
      ]
    },
    {
      "cell_type": "code",
      "metadata": {
        "id": "N5Ey4bZ0orjL",
        "colab_type": "code",
        "outputId": "393a4666-6fe4-49f1-c752-3e820595fe31",
        "colab": {}
      },
      "source": [
        "df_test_normalized.shape"
      ],
      "execution_count": 0,
      "outputs": [
        {
          "output_type": "execute_result",
          "data": {
            "text/plain": [
              "(212849, 3)"
            ]
          },
          "metadata": {
            "tags": []
          },
          "execution_count": 401
        }
      ]
    },
    {
      "cell_type": "code",
      "metadata": {
        "id": "Ci2dIsK8orjM",
        "colab_type": "code",
        "colab": {}
      },
      "source": [
        "with open('test_prep_last.pickle', 'rb') as f:\n",
        "    test_clean_reviews = pickle.load(f)"
      ],
      "execution_count": 0,
      "outputs": []
    },
    {
      "cell_type": "code",
      "metadata": {
        "id": "B-CWuhOxorjN",
        "colab_type": "code",
        "outputId": "66ddc5c2-ba07-475a-fc6d-faceec981f5e",
        "colab": {}
      },
      "source": [
        "len(test_clean_reviews)"
      ],
      "execution_count": 0,
      "outputs": [
        {
          "output_type": "execute_result",
          "data": {
            "text/plain": [
              "212849"
            ]
          },
          "metadata": {
            "tags": []
          },
          "execution_count": 396
        }
      ]
    },
    {
      "cell_type": "code",
      "metadata": {
        "id": "vzLiufb1orjQ",
        "colab_type": "code",
        "colab": {}
      },
      "source": [
        "df_test[\"test_clean_reviews\"] = test_clean_reviews"
      ],
      "execution_count": 0,
      "outputs": []
    },
    {
      "cell_type": "code",
      "metadata": {
        "id": "TUs8S1sXorjR",
        "colab_type": "code",
        "outputId": "2bc33d35-a3b7-4153-a508-53b2353ffed0",
        "colab": {}
      },
      "source": [
        "tokenizer_obj=Tokenizer()\n",
        "tokenizer_obj.fit_on_texts(list(df_test[\"test_clean_reviews\"]))\n",
        "seq=tokenizer_obj.texts_to_sequences(list(df_test[\"test_clean_reviews\"]))\n",
        "seq[1]"
      ],
      "execution_count": 0,
      "outputs": [
        {
          "output_type": "execute_result",
          "data": {
            "text/plain": [
              "[75,\n",
              " 1,\n",
              " 1,\n",
              " 1,\n",
              " 1,\n",
              " 2,\n",
              " 65,\n",
              " 79,\n",
              " 245,\n",
              " 3547,\n",
              " 560,\n",
              " 14100,\n",
              " 257,\n",
              " 167,\n",
              " 252,\n",
              " 8,\n",
              " 2,\n",
              " 1128,\n",
              " 1493,\n",
              " 29,\n",
              " 41,\n",
              " 74,\n",
              " 45,\n",
              " 81,\n",
              " 45,\n",
              " 49,\n",
              " 3,\n",
              " 98,\n",
              " 5688,\n",
              " 1011,\n",
              " 70050,\n",
              " 7308,\n",
              " 70051,\n",
              " 87,\n",
              " 391,\n",
              " 70052,\n",
              " 22,\n",
              " 50,\n",
              " 85,\n",
              " 2,\n",
              " 6,\n",
              " 1,\n",
              " 2,\n",
              " 65,\n",
              " 147,\n",
              " 1]"
            ]
          },
          "metadata": {
            "tags": []
          },
          "execution_count": 404
        }
      ]
    },
    {
      "cell_type": "code",
      "metadata": {
        "id": "ALbFGe8jorjT",
        "colab_type": "code",
        "colab": {}
      },
      "source": [
        "from keras.preprocessing.sequence import pad_sequences\n",
        "padded=pad_sequences(seq,longestsentence)"
      ],
      "execution_count": 0,
      "outputs": []
    },
    {
      "cell_type": "code",
      "metadata": {
        "id": "lSG9fHZ8orjU",
        "colab_type": "code",
        "colab": {}
      },
      "source": [
        "y_prob = model_trainable.predict([padded,df_test_normalized]) "
      ],
      "execution_count": 0,
      "outputs": []
    },
    {
      "cell_type": "code",
      "metadata": {
        "id": "NP_eSpERorjY",
        "colab_type": "code",
        "outputId": "26f3f9cd-f52e-4383-fd34-97a1bcb6ea4f",
        "colab": {}
      },
      "source": [
        "y_prob"
      ],
      "execution_count": 0,
      "outputs": [
        {
          "output_type": "execute_result",
          "data": {
            "text/plain": [
              "array([[0.0250785 , 0.0766449 , 0.26121637, 0.4254361 , 0.21162413],\n",
              "       [0.43014333, 0.3325693 , 0.14656752, 0.04070976, 0.05001007],\n",
              "       [0.45768863, 0.24817024, 0.13855575, 0.06600281, 0.08958252],\n",
              "       ...,\n",
              "       [0.04353473, 0.15004322, 0.34739003, 0.31944162, 0.1395904 ],\n",
              "       [0.30414474, 0.32495838, 0.20055182, 0.08339712, 0.08694793],\n",
              "       [0.70864284, 0.10132603, 0.05995393, 0.03656392, 0.09351325]],\n",
              "      dtype=float32)"
            ]
          },
          "metadata": {
            "tags": []
          },
          "execution_count": 418
        }
      ]
    },
    {
      "cell_type": "code",
      "metadata": {
        "id": "kt1I10Bborji",
        "colab_type": "code",
        "colab": {}
      },
      "source": [
        "new_df_test = df_test[[\"product_id\"]]"
      ],
      "execution_count": 0,
      "outputs": []
    },
    {
      "cell_type": "code",
      "metadata": {
        "id": "1RKHCyJoorjj",
        "colab_type": "code",
        "outputId": "69361180-dd7a-4674-9113-9045d52e110d",
        "colab": {}
      },
      "source": [
        "new_df_test.head(3)"
      ],
      "execution_count": 0,
      "outputs": [
        {
          "output_type": "execute_result",
          "data": {
            "text/html": [
              "<div>\n",
              "<style scoped>\n",
              "    .dataframe tbody tr th:only-of-type {\n",
              "        vertical-align: middle;\n",
              "    }\n",
              "\n",
              "    .dataframe tbody tr th {\n",
              "        vertical-align: top;\n",
              "    }\n",
              "\n",
              "    .dataframe thead th {\n",
              "        text-align: right;\n",
              "    }\n",
              "</style>\n",
              "<table border=\"1\" class=\"dataframe\">\n",
              "  <thead>\n",
              "    <tr style=\"text-align: right;\">\n",
              "      <th></th>\n",
              "      <th>product_id</th>\n",
              "      <th>star_rating</th>\n",
              "    </tr>\n",
              "  </thead>\n",
              "  <tbody>\n",
              "    <tr>\n",
              "      <th>0</th>\n",
              "      <td>1445604752</td>\n",
              "      <td>4</td>\n",
              "    </tr>\n",
              "    <tr>\n",
              "      <th>1</th>\n",
              "      <td>080244864X</td>\n",
              "      <td>1</td>\n",
              "    </tr>\n",
              "    <tr>\n",
              "      <th>2</th>\n",
              "      <td>0312536984</td>\n",
              "      <td>1</td>\n",
              "    </tr>\n",
              "  </tbody>\n",
              "</table>\n",
              "</div>"
            ],
            "text/plain": [
              "   product_id  star_rating\n",
              "0  1445604752            4\n",
              "1  080244864X            1\n",
              "2  0312536984            1"
            ]
          },
          "metadata": {
            "tags": []
          },
          "execution_count": 445
        }
      ]
    },
    {
      "cell_type": "markdown",
      "metadata": {
        "id": "IO6fdP-rorjm",
        "colab_type": "text"
      },
      "source": [
        "export_csv = new_df_test.to_csv(r'C:\\Users\\raibe\\Desktop\\MC2_YuBaRa.csv', index = None, header=True) "
      ]
    }
  ]
}